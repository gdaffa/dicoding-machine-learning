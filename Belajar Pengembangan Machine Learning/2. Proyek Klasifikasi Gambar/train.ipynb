{
 "cells": [
  {
   "cell_type": "markdown",
   "metadata": {
    "editable": true,
    "id": "H9wADwK78DCz",
    "tags": []
   },
   "source": [
    "# Proyek Klasifikasi Gambar: Klasifikasi Bunga dengan CNN\n",
    "- **Nama:** Gibran Daffa Atallah\n",
    "- **Email:** gibrandaffa92@gmail.com\n",
    "- **ID Dicoding:** gibrandaffa"
   ]
  },
  {
   "cell_type": "markdown",
   "metadata": {
    "id": "H-z4QGlO8DC1",
    "jp-MarkdownHeadingCollapsed": true
   },
   "source": [
    "## Import Semua Packages/Library yang Digunakan"
   ]
  },
  {
   "cell_type": "code",
   "execution_count": null,
   "metadata": {
    "id": "FVYwaObI8DC1"
   },
   "outputs": [],
   "source": [
    "import tensorflow as tf\n",
    "from tensorflow.keras.preprocessing.image import ImageDataGenerator\n",
    "from keras import layers, models\n",
    "from keras.callbacks import Callback, EarlyStopping\n",
    "\n",
    "import numpy as np\n",
    "from matplotlib import pyplot as plt\n",
    "import seaborn as sns\n",
    "from sklearn.metrics import confusion_matrix, classification_report\n",
    "\n",
    "# colab\n",
    "from google.colab import drive\n",
    "import zipfile"
   ]
  },
  {
   "cell_type": "markdown",
   "metadata": {
    "id": "TK4DvqfbYrN8",
    "jp-MarkdownHeadingCollapsed": true
   },
   "source": [
    "## Data Preparation"
   ]
  },
  {
   "cell_type": "markdown",
   "metadata": {
    "id": "1Mp9EEaRycsj",
    "jp-MarkdownHeadingCollapsed": true
   },
   "source": [
    "### Moving Data"
   ]
  },
  {
   "cell_type": "markdown",
   "metadata": {
    "id": "_GfyVsonDYyh"
   },
   "source": [
    "Karena saya menggunakan Google Colab, maka saya akan mengambil dataset dari Google Drive."
   ]
  },
  {
   "cell_type": "code",
   "execution_count": null,
   "metadata": {
    "colab": {
     "base_uri": "https://localhost:8080/"
    },
    "id": "27t0SqAyypi6",
    "outputId": "f3658eaa-0238-4e75-bd70-98bd28970e66"
   },
   "outputs": [
    {
     "name": "stdout",
     "output_type": "stream",
     "text": [
      "Mounted at /content/drive\n"
     ]
    }
   ],
   "source": [
    "drive.mount('/content/drive')"
   ]
  },
  {
   "cell_type": "code",
   "execution_count": null,
   "metadata": {
    "id": "Z-db5KdG8P6L"
   },
   "outputs": [],
   "source": [
    "!mkdir model-datasets"
   ]
  },
  {
   "cell_type": "code",
   "execution_count": null,
   "metadata": {
    "id": "6shiklRV8FG9"
   },
   "outputs": [],
   "source": [
    "!cp drive/MyDrive/model-datasets.zip ."
   ]
  },
  {
   "cell_type": "code",
   "execution_count": null,
   "metadata": {
    "id": "jI__EBB88fF6"
   },
   "outputs": [],
   "source": [
    "zipfile.ZipFile('model-datasets.zip', 'r').extractall('model-datasets')"
   ]
  },
  {
   "cell_type": "code",
   "execution_count": null,
   "metadata": {
    "id": "lYbUdNie9iGN"
   },
   "outputs": [],
   "source": [
    "!rm model-datasets.zip"
   ]
  },
  {
   "cell_type": "markdown",
   "metadata": {
    "id": "HHekw29KX4XQ",
    "jp-MarkdownHeadingCollapsed": true
   },
   "source": [
    "### Data Loading"
   ]
  },
  {
   "cell_type": "code",
   "execution_count": null,
   "metadata": {
    "id": "wIcv1F9fX4XQ"
   },
   "outputs": [],
   "source": [
    "train_gen = ImageDataGenerator(\n",
    "    rescale            = 1/255,\n",
    "    horizontal_flip    = True,\n",
    "    zoom_range         = 0.2,\n",
    "    shear_range        = 0.2,\n",
    "    rotation_range     = 10,\n",
    "    width_shift_range  = 0.2,\n",
    "    height_shift_range = 0.2,\n",
    ")\n",
    "\n",
    "test_gen = ImageDataGenerator(rescale=1/255)"
   ]
  },
  {
   "cell_type": "markdown",
   "metadata": {
    "id": "Ax5LSGS2HAlm"
   },
   "source": [
    "Karena dataset sudah di-split, maka saya akan mengaksesnya berdasarkan set nya."
   ]
  },
  {
   "cell_type": "code",
   "execution_count": null,
   "metadata": {
    "colab": {
     "base_uri": "https://localhost:8080/"
    },
    "id": "mJXRG6QBMsSO",
    "outputId": "7f93085e-a5c1-47d2-bcde-734b923b1176"
   },
   "outputs": [
    {
     "name": "stdout",
     "output_type": "stream",
     "text": [
      "Found 1311 images belonging to 5 classes.\n",
      "Found 165 images belonging to 5 classes.\n",
      "Found 162 images belonging to 5 classes.\n"
     ]
    }
   ],
   "source": [
    "train = train_gen.flow_from_directory(\n",
    "    'model-datasets/train',\n",
    "    target_size = [224, 224],\n",
    "    batch_size  = 32\n",
    ")\n",
    "\n",
    "validation = test_gen.flow_from_directory(\n",
    "    'model-datasets/validation',\n",
    "    target_size = [224, 224],\n",
    "    batch_size  = 32\n",
    ")\n",
    "\n",
    "test = test_gen.flow_from_directory(\n",
    "    'model-datasets/test',\n",
    "    target_size = [224, 224],\n",
    "    batch_size  = 32,\n",
    "    shuffle      = False\n",
    ")"
   ]
  },
  {
   "cell_type": "markdown",
   "metadata": {
    "id": "bFgLyQPHX98s",
    "jp-MarkdownHeadingCollapsed": true
   },
   "source": [
    "### Data Preprocessing"
   ]
  },
  {
   "cell_type": "markdown",
   "metadata": {
    "id": "9ICO2-E0YxzD",
    "jp-MarkdownHeadingCollapsed": true
   },
   "source": [
    "#### Split Dataset"
   ]
  },
  {
   "cell_type": "markdown",
   "metadata": {
    "id": "BDgDddS7MsSR"
   },
   "source": [
    "Split dataset telah dilakukan secara eksplisit oleh script `scripts/split-dataset.py`. Ini dilakukan untuk konsistensi dataset yang digunakan pada pelatihan, validasi, dan pengujian yang mempermudah parameter tuning."
   ]
  },
  {
   "cell_type": "markdown",
   "metadata": {
    "id": "nc-Ph-oIYAUU",
    "jp-MarkdownHeadingCollapsed": true
   },
   "source": [
    "## Modelling"
   ]
  },
  {
   "cell_type": "markdown",
   "metadata": {
    "id": "6pPXivmbMsSS"
   },
   "source": [
    "### Model"
   ]
  },
  {
   "cell_type": "code",
   "execution_count": null,
   "metadata": {
    "id": "UTwK0t8XYAUU"
   },
   "outputs": [],
   "source": [
    "model = models.Sequential([\n",
    "    layers.Conv2D(32, [3, 3], activation='relu', input_shape=[224, 224, 3]),\n",
    "    layers.MaxPooling2D(2, 2),\n",
    "\n",
    "    layers.Conv2D(64, [3, 3], activation='relu'),\n",
    "    layers.MaxPooling2D(2, 2),\n",
    "\n",
    "    layers.Conv2D(128, [3, 3], activation='relu'),\n",
    "    layers.MaxPooling2D(2, 2),\n",
    "\n",
    "    layers.Conv2D(256, [3, 3], activation='relu'),\n",
    "    layers.MaxPooling2D(2, 2),\n",
    "\n",
    "    layers.Flatten(),\n",
    "    layers.Dense(256, activation='relu'),\n",
    "    layers.Dropout(0.55),\n",
    "    layers.Dense(5, activation='softmax')\n",
    "])"
   ]
  },
  {
   "cell_type": "code",
   "execution_count": null,
   "metadata": {
    "id": "Rgh6-XcEMsST"
   },
   "outputs": [],
   "source": [
    "model.compile(\n",
    "    optimizer ='adam',\n",
    "    loss      = 'categorical_crossentropy',\n",
    "    metrics   = ['accuracy']\n",
    ")"
   ]
  },
  {
   "cell_type": "code",
   "execution_count": 7,
   "metadata": {
    "colab": {
     "base_uri": "https://localhost:8080/",
     "height": 544
    },
    "id": "08BRhE21NvjJ",
    "outputId": "2636f6aa-c8f6-4534-8a2d-6b1418e2b00b"
   },
   "outputs": [
    {
     "data": {
      "text/html": [
       "<pre style=\"white-space:pre;overflow-x:auto;line-height:normal;font-family:Menlo,'DejaVu Sans Mono',consolas,'Courier New',monospace\"><span style=\"font-weight: bold\">Model: \"sequential\"</span>\n",
       "</pre>\n"
      ],
      "text/plain": [
       "\u001b[1mModel: \"sequential\"\u001b[0m\n"
      ]
     },
     "metadata": {},
     "output_type": "display_data"
    },
    {
     "data": {
      "text/html": [
       "<pre style=\"white-space:pre;overflow-x:auto;line-height:normal;font-family:Menlo,'DejaVu Sans Mono',consolas,'Courier New',monospace\">┏━━━━━━━━━━━━━━━━━━━━━━━━━━━━━━━━━━━━━━┳━━━━━━━━━━━━━━━━━━━━━━━━━━━━━┳━━━━━━━━━━━━━━━━━┓\n",
       "┃<span style=\"font-weight: bold\"> Layer (type)                         </span>┃<span style=\"font-weight: bold\"> Output Shape                </span>┃<span style=\"font-weight: bold\">         Param # </span>┃\n",
       "┡━━━━━━━━━━━━━━━━━━━━━━━━━━━━━━━━━━━━━━╇━━━━━━━━━━━━━━━━━━━━━━━━━━━━━╇━━━━━━━━━━━━━━━━━┩\n",
       "│ conv2d (<span style=\"color: #0087ff; text-decoration-color: #0087ff\">Conv2D</span>)                      │ (<span style=\"color: #00d7ff; text-decoration-color: #00d7ff\">None</span>, <span style=\"color: #00af00; text-decoration-color: #00af00\">222</span>, <span style=\"color: #00af00; text-decoration-color: #00af00\">222</span>, <span style=\"color: #00af00; text-decoration-color: #00af00\">32</span>)        │             <span style=\"color: #00af00; text-decoration-color: #00af00\">896</span> │\n",
       "├──────────────────────────────────────┼─────────────────────────────┼─────────────────┤\n",
       "│ max_pooling2d (<span style=\"color: #0087ff; text-decoration-color: #0087ff\">MaxPooling2D</span>)         │ (<span style=\"color: #00d7ff; text-decoration-color: #00d7ff\">None</span>, <span style=\"color: #00af00; text-decoration-color: #00af00\">111</span>, <span style=\"color: #00af00; text-decoration-color: #00af00\">111</span>, <span style=\"color: #00af00; text-decoration-color: #00af00\">32</span>)        │               <span style=\"color: #00af00; text-decoration-color: #00af00\">0</span> │\n",
       "├──────────────────────────────────────┼─────────────────────────────┼─────────────────┤\n",
       "│ conv2d_1 (<span style=\"color: #0087ff; text-decoration-color: #0087ff\">Conv2D</span>)                    │ (<span style=\"color: #00d7ff; text-decoration-color: #00d7ff\">None</span>, <span style=\"color: #00af00; text-decoration-color: #00af00\">109</span>, <span style=\"color: #00af00; text-decoration-color: #00af00\">109</span>, <span style=\"color: #00af00; text-decoration-color: #00af00\">64</span>)        │          <span style=\"color: #00af00; text-decoration-color: #00af00\">18,496</span> │\n",
       "├──────────────────────────────────────┼─────────────────────────────┼─────────────────┤\n",
       "│ max_pooling2d_1 (<span style=\"color: #0087ff; text-decoration-color: #0087ff\">MaxPooling2D</span>)       │ (<span style=\"color: #00d7ff; text-decoration-color: #00d7ff\">None</span>, <span style=\"color: #00af00; text-decoration-color: #00af00\">54</span>, <span style=\"color: #00af00; text-decoration-color: #00af00\">54</span>, <span style=\"color: #00af00; text-decoration-color: #00af00\">64</span>)          │               <span style=\"color: #00af00; text-decoration-color: #00af00\">0</span> │\n",
       "├──────────────────────────────────────┼─────────────────────────────┼─────────────────┤\n",
       "│ conv2d_2 (<span style=\"color: #0087ff; text-decoration-color: #0087ff\">Conv2D</span>)                    │ (<span style=\"color: #00d7ff; text-decoration-color: #00d7ff\">None</span>, <span style=\"color: #00af00; text-decoration-color: #00af00\">52</span>, <span style=\"color: #00af00; text-decoration-color: #00af00\">52</span>, <span style=\"color: #00af00; text-decoration-color: #00af00\">128</span>)         │          <span style=\"color: #00af00; text-decoration-color: #00af00\">73,856</span> │\n",
       "├──────────────────────────────────────┼─────────────────────────────┼─────────────────┤\n",
       "│ max_pooling2d_2 (<span style=\"color: #0087ff; text-decoration-color: #0087ff\">MaxPooling2D</span>)       │ (<span style=\"color: #00d7ff; text-decoration-color: #00d7ff\">None</span>, <span style=\"color: #00af00; text-decoration-color: #00af00\">26</span>, <span style=\"color: #00af00; text-decoration-color: #00af00\">26</span>, <span style=\"color: #00af00; text-decoration-color: #00af00\">128</span>)         │               <span style=\"color: #00af00; text-decoration-color: #00af00\">0</span> │\n",
       "├──────────────────────────────────────┼─────────────────────────────┼─────────────────┤\n",
       "│ conv2d_3 (<span style=\"color: #0087ff; text-decoration-color: #0087ff\">Conv2D</span>)                    │ (<span style=\"color: #00d7ff; text-decoration-color: #00d7ff\">None</span>, <span style=\"color: #00af00; text-decoration-color: #00af00\">24</span>, <span style=\"color: #00af00; text-decoration-color: #00af00\">24</span>, <span style=\"color: #00af00; text-decoration-color: #00af00\">256</span>)         │         <span style=\"color: #00af00; text-decoration-color: #00af00\">295,168</span> │\n",
       "├──────────────────────────────────────┼─────────────────────────────┼─────────────────┤\n",
       "│ max_pooling2d_3 (<span style=\"color: #0087ff; text-decoration-color: #0087ff\">MaxPooling2D</span>)       │ (<span style=\"color: #00d7ff; text-decoration-color: #00d7ff\">None</span>, <span style=\"color: #00af00; text-decoration-color: #00af00\">12</span>, <span style=\"color: #00af00; text-decoration-color: #00af00\">12</span>, <span style=\"color: #00af00; text-decoration-color: #00af00\">256</span>)         │               <span style=\"color: #00af00; text-decoration-color: #00af00\">0</span> │\n",
       "├──────────────────────────────────────┼─────────────────────────────┼─────────────────┤\n",
       "│ flatten (<span style=\"color: #0087ff; text-decoration-color: #0087ff\">Flatten</span>)                    │ (<span style=\"color: #00d7ff; text-decoration-color: #00d7ff\">None</span>, <span style=\"color: #00af00; text-decoration-color: #00af00\">36864</span>)               │               <span style=\"color: #00af00; text-decoration-color: #00af00\">0</span> │\n",
       "├──────────────────────────────────────┼─────────────────────────────┼─────────────────┤\n",
       "│ dense (<span style=\"color: #0087ff; text-decoration-color: #0087ff\">Dense</span>)                        │ (<span style=\"color: #00d7ff; text-decoration-color: #00d7ff\">None</span>, <span style=\"color: #00af00; text-decoration-color: #00af00\">256</span>)                 │       <span style=\"color: #00af00; text-decoration-color: #00af00\">9,437,440</span> │\n",
       "├──────────────────────────────────────┼─────────────────────────────┼─────────────────┤\n",
       "│ dropout (<span style=\"color: #0087ff; text-decoration-color: #0087ff\">Dropout</span>)                    │ (<span style=\"color: #00d7ff; text-decoration-color: #00d7ff\">None</span>, <span style=\"color: #00af00; text-decoration-color: #00af00\">256</span>)                 │               <span style=\"color: #00af00; text-decoration-color: #00af00\">0</span> │\n",
       "├──────────────────────────────────────┼─────────────────────────────┼─────────────────┤\n",
       "│ dense_1 (<span style=\"color: #0087ff; text-decoration-color: #0087ff\">Dense</span>)                      │ (<span style=\"color: #00d7ff; text-decoration-color: #00d7ff\">None</span>, <span style=\"color: #00af00; text-decoration-color: #00af00\">5</span>)                   │           <span style=\"color: #00af00; text-decoration-color: #00af00\">1,285</span> │\n",
       "└──────────────────────────────────────┴─────────────────────────────┴─────────────────┘\n",
       "</pre>\n"
      ],
      "text/plain": [
       "┏━━━━━━━━━━━━━━━━━━━━━━━━━━━━━━━━━━━━━━┳━━━━━━━━━━━━━━━━━━━━━━━━━━━━━┳━━━━━━━━━━━━━━━━━┓\n",
       "┃\u001b[1m \u001b[0m\u001b[1mLayer (type)                        \u001b[0m\u001b[1m \u001b[0m┃\u001b[1m \u001b[0m\u001b[1mOutput Shape               \u001b[0m\u001b[1m \u001b[0m┃\u001b[1m \u001b[0m\u001b[1m        Param #\u001b[0m\u001b[1m \u001b[0m┃\n",
       "┡━━━━━━━━━━━━━━━━━━━━━━━━━━━━━━━━━━━━━━╇━━━━━━━━━━━━━━━━━━━━━━━━━━━━━╇━━━━━━━━━━━━━━━━━┩\n",
       "│ conv2d (\u001b[38;5;33mConv2D\u001b[0m)                      │ (\u001b[38;5;45mNone\u001b[0m, \u001b[38;5;34m222\u001b[0m, \u001b[38;5;34m222\u001b[0m, \u001b[38;5;34m32\u001b[0m)        │             \u001b[38;5;34m896\u001b[0m │\n",
       "├──────────────────────────────────────┼─────────────────────────────┼─────────────────┤\n",
       "│ max_pooling2d (\u001b[38;5;33mMaxPooling2D\u001b[0m)         │ (\u001b[38;5;45mNone\u001b[0m, \u001b[38;5;34m111\u001b[0m, \u001b[38;5;34m111\u001b[0m, \u001b[38;5;34m32\u001b[0m)        │               \u001b[38;5;34m0\u001b[0m │\n",
       "├──────────────────────────────────────┼─────────────────────────────┼─────────────────┤\n",
       "│ conv2d_1 (\u001b[38;5;33mConv2D\u001b[0m)                    │ (\u001b[38;5;45mNone\u001b[0m, \u001b[38;5;34m109\u001b[0m, \u001b[38;5;34m109\u001b[0m, \u001b[38;5;34m64\u001b[0m)        │          \u001b[38;5;34m18,496\u001b[0m │\n",
       "├──────────────────────────────────────┼─────────────────────────────┼─────────────────┤\n",
       "│ max_pooling2d_1 (\u001b[38;5;33mMaxPooling2D\u001b[0m)       │ (\u001b[38;5;45mNone\u001b[0m, \u001b[38;5;34m54\u001b[0m, \u001b[38;5;34m54\u001b[0m, \u001b[38;5;34m64\u001b[0m)          │               \u001b[38;5;34m0\u001b[0m │\n",
       "├──────────────────────────────────────┼─────────────────────────────┼─────────────────┤\n",
       "│ conv2d_2 (\u001b[38;5;33mConv2D\u001b[0m)                    │ (\u001b[38;5;45mNone\u001b[0m, \u001b[38;5;34m52\u001b[0m, \u001b[38;5;34m52\u001b[0m, \u001b[38;5;34m128\u001b[0m)         │          \u001b[38;5;34m73,856\u001b[0m │\n",
       "├──────────────────────────────────────┼─────────────────────────────┼─────────────────┤\n",
       "│ max_pooling2d_2 (\u001b[38;5;33mMaxPooling2D\u001b[0m)       │ (\u001b[38;5;45mNone\u001b[0m, \u001b[38;5;34m26\u001b[0m, \u001b[38;5;34m26\u001b[0m, \u001b[38;5;34m128\u001b[0m)         │               \u001b[38;5;34m0\u001b[0m │\n",
       "├──────────────────────────────────────┼─────────────────────────────┼─────────────────┤\n",
       "│ conv2d_3 (\u001b[38;5;33mConv2D\u001b[0m)                    │ (\u001b[38;5;45mNone\u001b[0m, \u001b[38;5;34m24\u001b[0m, \u001b[38;5;34m24\u001b[0m, \u001b[38;5;34m256\u001b[0m)         │         \u001b[38;5;34m295,168\u001b[0m │\n",
       "├──────────────────────────────────────┼─────────────────────────────┼─────────────────┤\n",
       "│ max_pooling2d_3 (\u001b[38;5;33mMaxPooling2D\u001b[0m)       │ (\u001b[38;5;45mNone\u001b[0m, \u001b[38;5;34m12\u001b[0m, \u001b[38;5;34m12\u001b[0m, \u001b[38;5;34m256\u001b[0m)         │               \u001b[38;5;34m0\u001b[0m │\n",
       "├──────────────────────────────────────┼─────────────────────────────┼─────────────────┤\n",
       "│ flatten (\u001b[38;5;33mFlatten\u001b[0m)                    │ (\u001b[38;5;45mNone\u001b[0m, \u001b[38;5;34m36864\u001b[0m)               │               \u001b[38;5;34m0\u001b[0m │\n",
       "├──────────────────────────────────────┼─────────────────────────────┼─────────────────┤\n",
       "│ dense (\u001b[38;5;33mDense\u001b[0m)                        │ (\u001b[38;5;45mNone\u001b[0m, \u001b[38;5;34m256\u001b[0m)                 │       \u001b[38;5;34m9,437,440\u001b[0m │\n",
       "├──────────────────────────────────────┼─────────────────────────────┼─────────────────┤\n",
       "│ dropout (\u001b[38;5;33mDropout\u001b[0m)                    │ (\u001b[38;5;45mNone\u001b[0m, \u001b[38;5;34m256\u001b[0m)                 │               \u001b[38;5;34m0\u001b[0m │\n",
       "├──────────────────────────────────────┼─────────────────────────────┼─────────────────┤\n",
       "│ dense_1 (\u001b[38;5;33mDense\u001b[0m)                      │ (\u001b[38;5;45mNone\u001b[0m, \u001b[38;5;34m5\u001b[0m)                   │           \u001b[38;5;34m1,285\u001b[0m │\n",
       "└──────────────────────────────────────┴─────────────────────────────┴─────────────────┘\n"
      ]
     },
     "metadata": {},
     "output_type": "display_data"
    },
    {
     "data": {
      "text/html": [
       "<pre style=\"white-space:pre;overflow-x:auto;line-height:normal;font-family:Menlo,'DejaVu Sans Mono',consolas,'Courier New',monospace\"><span style=\"font-weight: bold\"> Total params: </span><span style=\"color: #00af00; text-decoration-color: #00af00\">9,827,141</span> (37.49 MB)\n",
       "</pre>\n"
      ],
      "text/plain": [
       "\u001b[1m Total params: \u001b[0m\u001b[38;5;34m9,827,141\u001b[0m (37.49 MB)\n"
      ]
     },
     "metadata": {},
     "output_type": "display_data"
    },
    {
     "data": {
      "text/html": [
       "<pre style=\"white-space:pre;overflow-x:auto;line-height:normal;font-family:Menlo,'DejaVu Sans Mono',consolas,'Courier New',monospace\"><span style=\"font-weight: bold\"> Trainable params: </span><span style=\"color: #00af00; text-decoration-color: #00af00\">9,827,141</span> (37.49 MB)\n",
       "</pre>\n"
      ],
      "text/plain": [
       "\u001b[1m Trainable params: \u001b[0m\u001b[38;5;34m9,827,141\u001b[0m (37.49 MB)\n"
      ]
     },
     "metadata": {},
     "output_type": "display_data"
    },
    {
     "data": {
      "text/html": [
       "<pre style=\"white-space:pre;overflow-x:auto;line-height:normal;font-family:Menlo,'DejaVu Sans Mono',consolas,'Courier New',monospace\"><span style=\"font-weight: bold\"> Non-trainable params: </span><span style=\"color: #00af00; text-decoration-color: #00af00\">0</span> (0.00 B)\n",
       "</pre>\n"
      ],
      "text/plain": [
       "\u001b[1m Non-trainable params: \u001b[0m\u001b[38;5;34m0\u001b[0m (0.00 B)\n"
      ]
     },
     "metadata": {},
     "output_type": "display_data"
    }
   ],
   "source": [
    "model.summary()"
   ]
  },
  {
   "cell_type": "markdown",
   "metadata": {
    "id": "K5emc0dxMsST",
    "jp-MarkdownHeadingCollapsed": true
   },
   "source": [
    "### Callback"
   ]
  },
  {
   "cell_type": "code",
   "execution_count": null,
   "metadata": {
    "id": "5VEEj-gYMsST"
   },
   "outputs": [],
   "source": [
    "class CallbackStop(Callback):\n",
    "    def on_epoch_end(self, epoch, logs):\n",
    "        if (logs.get('accuracy') >= 0.96):\n",
    "            print('✅ Akursasi sudah diatas 96%')\n",
    "            self.model.stop_training = True"
   ]
  },
  {
   "cell_type": "code",
   "execution_count": null,
   "metadata": {
    "id": "O3jznzOCMsSU"
   },
   "outputs": [],
   "source": [
    "callback_stop  = CallbackStop()\n",
    "early_stopping = EarlyStopping(monitor='loss', patience=5, restore_best_weights=True, mode='min')"
   ]
  },
  {
   "cell_type": "markdown",
   "metadata": {
    "id": "8BG4eVvLHAlq",
    "jp-MarkdownHeadingCollapsed": true
   },
   "source": [
    "### Training"
   ]
  },
  {
   "cell_type": "code",
   "execution_count": null,
   "metadata": {
    "colab": {
     "base_uri": "https://localhost:8080/"
    },
    "id": "aLiCuALUMsSU",
    "outputId": "b9e9f66d-0109-4ed2-d323-80b3b802c84e"
   },
   "outputs": [
    {
     "name": "stdout",
     "output_type": "stream",
     "text": [
      "Epoch 1/80\n",
      "\u001b[1m41/41\u001b[0m \u001b[32m━━━━━━━━━━━━━━━━━━━━\u001b[0m\u001b[37m\u001b[0m \u001b[1m23s\u001b[0m 470ms/step - accuracy: 0.2407 - loss: 1.8013 - val_accuracy: 0.4970 - val_loss: 1.1935\n",
      "Epoch 2/80\n",
      "\u001b[1m41/41\u001b[0m \u001b[32m━━━━━━━━━━━━━━━━━━━━\u001b[0m\u001b[37m\u001b[0m \u001b[1m37s\u001b[0m 419ms/step - accuracy: 0.5171 - loss: 1.1481 - val_accuracy: 0.6970 - val_loss: 1.0016\n",
      "Epoch 3/80\n",
      "\u001b[1m41/41\u001b[0m \u001b[32m━━━━━━━━━━━━━━━━━━━━\u001b[0m\u001b[37m\u001b[0m \u001b[1m18s\u001b[0m 440ms/step - accuracy: 0.5931 - loss: 1.0381 - val_accuracy: 0.5939 - val_loss: 1.0699\n",
      "Epoch 4/80\n",
      "\u001b[1m41/41\u001b[0m \u001b[32m━━━━━━━━━━━━━━━━━━━━\u001b[0m\u001b[37m\u001b[0m \u001b[1m17s\u001b[0m 412ms/step - accuracy: 0.6022 - loss: 1.0147 - val_accuracy: 0.7152 - val_loss: 0.8238\n",
      "Epoch 5/80\n",
      "\u001b[1m41/41\u001b[0m \u001b[32m━━━━━━━━━━━━━━━━━━━━\u001b[0m\u001b[37m\u001b[0m \u001b[1m17s\u001b[0m 411ms/step - accuracy: 0.7349 - loss: 0.7493 - val_accuracy: 0.7212 - val_loss: 0.7592\n",
      "Epoch 6/80\n",
      "\u001b[1m41/41\u001b[0m \u001b[32m━━━━━━━━━━━━━━━━━━━━\u001b[0m\u001b[37m\u001b[0m \u001b[1m18s\u001b[0m 447ms/step - accuracy: 0.7488 - loss: 0.7412 - val_accuracy: 0.7455 - val_loss: 0.6802\n",
      "Epoch 7/80\n",
      "\u001b[1m41/41\u001b[0m \u001b[32m━━━━━━━━━━━━━━━━━━━━\u001b[0m\u001b[37m\u001b[0m \u001b[1m19s\u001b[0m 415ms/step - accuracy: 0.8026 - loss: 0.5978 - val_accuracy: 0.7879 - val_loss: 0.7032\n",
      "Epoch 8/80\n",
      "\u001b[1m41/41\u001b[0m \u001b[32m━━━━━━━━━━━━━━━━━━━━\u001b[0m\u001b[37m\u001b[0m \u001b[1m17s\u001b[0m 415ms/step - accuracy: 0.7801 - loss: 0.6553 - val_accuracy: 0.8364 - val_loss: 0.5277\n",
      "Epoch 9/80\n",
      "\u001b[1m41/41\u001b[0m \u001b[32m━━━━━━━━━━━━━━━━━━━━\u001b[0m\u001b[37m\u001b[0m \u001b[1m20s\u001b[0m 408ms/step - accuracy: 0.8337 - loss: 0.4957 - val_accuracy: 0.7879 - val_loss: 0.6029\n",
      "Epoch 10/80\n",
      "\u001b[1m41/41\u001b[0m \u001b[32m━━━━━━━━━━━━━━━━━━━━\u001b[0m\u001b[37m\u001b[0m \u001b[1m17s\u001b[0m 417ms/step - accuracy: 0.8319 - loss: 0.4783 - val_accuracy: 0.7697 - val_loss: 0.6486\n",
      "Epoch 11/80\n",
      "\u001b[1m41/41\u001b[0m \u001b[32m━━━━━━━━━━━━━━━━━━━━\u001b[0m\u001b[37m\u001b[0m \u001b[1m20s\u001b[0m 409ms/step - accuracy: 0.7897 - loss: 0.5917 - val_accuracy: 0.8485 - val_loss: 0.5246\n",
      "Epoch 12/80\n",
      "\u001b[1m41/41\u001b[0m \u001b[32m━━━━━━━━━━━━━━━━━━━━\u001b[0m\u001b[37m\u001b[0m \u001b[1m17s\u001b[0m 410ms/step - accuracy: 0.8601 - loss: 0.4586 - val_accuracy: 0.8727 - val_loss: 0.4400\n",
      "Epoch 13/80\n",
      "\u001b[1m41/41\u001b[0m \u001b[32m━━━━━━━━━━━━━━━━━━━━\u001b[0m\u001b[37m\u001b[0m \u001b[1m18s\u001b[0m 435ms/step - accuracy: 0.8679 - loss: 0.3999 - val_accuracy: 0.8727 - val_loss: 0.4606\n",
      "Epoch 14/80\n",
      "\u001b[1m41/41\u001b[0m \u001b[32m━━━━━━━━━━━━━━━━━━━━\u001b[0m\u001b[37m\u001b[0m \u001b[1m17s\u001b[0m 415ms/step - accuracy: 0.8768 - loss: 0.3637 - val_accuracy: 0.8727 - val_loss: 0.4465\n",
      "Epoch 15/80\n",
      "\u001b[1m41/41\u001b[0m \u001b[32m━━━━━━━━━━━━━━━━━━━━\u001b[0m\u001b[37m\u001b[0m \u001b[1m20s\u001b[0m 416ms/step - accuracy: 0.8623 - loss: 0.4254 - val_accuracy: 0.8545 - val_loss: 0.4370\n",
      "Epoch 16/80\n",
      "\u001b[1m41/41\u001b[0m \u001b[32m━━━━━━━━━━━━━━━━━━━━\u001b[0m\u001b[37m\u001b[0m \u001b[1m18s\u001b[0m 427ms/step - accuracy: 0.8865 - loss: 0.3356 - val_accuracy: 0.8727 - val_loss: 0.4036\n",
      "Epoch 17/80\n",
      "\u001b[1m41/41\u001b[0m \u001b[32m━━━━━━━━━━━━━━━━━━━━\u001b[0m\u001b[37m\u001b[0m \u001b[1m17s\u001b[0m 415ms/step - accuracy: 0.8833 - loss: 0.3155 - val_accuracy: 0.8606 - val_loss: 0.4676\n",
      "Epoch 18/80\n",
      "\u001b[1m41/41\u001b[0m \u001b[32m━━━━━━━━━━━━━━━━━━━━\u001b[0m\u001b[37m\u001b[0m \u001b[1m17s\u001b[0m 418ms/step - accuracy: 0.8812 - loss: 0.3548 - val_accuracy: 0.8788 - val_loss: 0.4108\n",
      "Epoch 19/80\n",
      "\u001b[1m41/41\u001b[0m \u001b[32m━━━━━━━━━━━━━━━━━━━━\u001b[0m\u001b[37m\u001b[0m \u001b[1m18s\u001b[0m 434ms/step - accuracy: 0.8868 - loss: 0.3319 - val_accuracy: 0.8788 - val_loss: 0.4531\n",
      "Epoch 20/80\n",
      "\u001b[1m41/41\u001b[0m \u001b[32m━━━━━━━━━━━━━━━━━━━━\u001b[0m\u001b[37m\u001b[0m \u001b[1m17s\u001b[0m 414ms/step - accuracy: 0.8817 - loss: 0.3741 - val_accuracy: 0.8727 - val_loss: 0.4068\n",
      "Epoch 21/80\n",
      "\u001b[1m41/41\u001b[0m \u001b[32m━━━━━━━━━━━━━━━━━━━━\u001b[0m\u001b[37m\u001b[0m \u001b[1m17s\u001b[0m 415ms/step - accuracy: 0.8860 - loss: 0.2993 - val_accuracy: 0.8727 - val_loss: 0.5063\n",
      "Epoch 22/80\n",
      "\u001b[1m41/41\u001b[0m \u001b[32m━━━━━━━━━━━━━━━━━━━━\u001b[0m\u001b[37m\u001b[0m \u001b[1m18s\u001b[0m 447ms/step - accuracy: 0.9009 - loss: 0.2841 - val_accuracy: 0.8909 - val_loss: 0.4124\n",
      "Epoch 23/80\n",
      "\u001b[1m41/41\u001b[0m \u001b[32m━━━━━━━━━━━━━━━━━━━━\u001b[0m\u001b[37m\u001b[0m \u001b[1m17s\u001b[0m 408ms/step - accuracy: 0.9173 - loss: 0.2466 - val_accuracy: 0.8848 - val_loss: 0.4169\n",
      "Epoch 24/80\n",
      "\u001b[1m41/41\u001b[0m \u001b[32m━━━━━━━━━━━━━━━━━━━━\u001b[0m\u001b[37m\u001b[0m \u001b[1m17s\u001b[0m 413ms/step - accuracy: 0.9090 - loss: 0.2666 - val_accuracy: 0.8970 - val_loss: 0.3822\n",
      "Epoch 25/80\n",
      "\u001b[1m41/41\u001b[0m \u001b[32m━━━━━━━━━━━━━━━━━━━━\u001b[0m\u001b[37m\u001b[0m \u001b[1m18s\u001b[0m 446ms/step - accuracy: 0.9006 - loss: 0.2375 - val_accuracy: 0.8848 - val_loss: 0.4473\n",
      "Epoch 26/80\n",
      "\u001b[1m41/41\u001b[0m \u001b[32m━━━━━━━━━━━━━━━━━━━━\u001b[0m\u001b[37m\u001b[0m \u001b[1m17s\u001b[0m 421ms/step - accuracy: 0.9090 - loss: 0.2821 - val_accuracy: 0.9030 - val_loss: 0.4011\n",
      "Epoch 27/80\n",
      "\u001b[1m41/41\u001b[0m \u001b[32m━━━━━━━━━━━━━━━━━━━━\u001b[0m\u001b[37m\u001b[0m \u001b[1m17s\u001b[0m 409ms/step - accuracy: 0.9239 - loss: 0.2130 - val_accuracy: 0.9030 - val_loss: 0.5252\n",
      "Epoch 28/80\n",
      "\u001b[1m41/41\u001b[0m \u001b[32m━━━━━━━━━━━━━━━━━━━━\u001b[0m\u001b[37m\u001b[0m \u001b[1m18s\u001b[0m 435ms/step - accuracy: 0.9167 - loss: 0.2543 - val_accuracy: 0.8242 - val_loss: 0.7211\n",
      "Epoch 29/80\n",
      "\u001b[1m41/41\u001b[0m \u001b[32m━━━━━━━━━━━━━━━━━━━━\u001b[0m\u001b[37m\u001b[0m \u001b[1m19s\u001b[0m 408ms/step - accuracy: 0.9114 - loss: 0.3033 - val_accuracy: 0.8909 - val_loss: 0.3935\n",
      "Epoch 30/80\n",
      "\u001b[1m41/41\u001b[0m \u001b[32m━━━━━━━━━━━━━━━━━━━━\u001b[0m\u001b[37m\u001b[0m \u001b[1m17s\u001b[0m 417ms/step - accuracy: 0.9141 - loss: 0.2313 - val_accuracy: 0.9030 - val_loss: 0.4045\n",
      "Epoch 31/80\n",
      "\u001b[1m41/41\u001b[0m \u001b[32m━━━━━━━━━━━━━━━━━━━━\u001b[0m\u001b[37m\u001b[0m \u001b[1m18s\u001b[0m 440ms/step - accuracy: 0.9167 - loss: 0.2103 - val_accuracy: 0.8545 - val_loss: 0.5101\n",
      "Epoch 32/80\n",
      "\u001b[1m41/41\u001b[0m \u001b[32m━━━━━━━━━━━━━━━━━━━━\u001b[0m\u001b[37m\u001b[0m \u001b[1m17s\u001b[0m 408ms/step - accuracy: 0.9233 - loss: 0.2168 - val_accuracy: 0.9091 - val_loss: 0.3990\n",
      "Epoch 33/80\n",
      "\u001b[1m41/41\u001b[0m \u001b[32m━━━━━━━━━━━━━━━━━━━━\u001b[0m\u001b[37m\u001b[0m \u001b[1m17s\u001b[0m 412ms/step - accuracy: 0.9133 - loss: 0.2278 - val_accuracy: 0.9030 - val_loss: 0.4417\n",
      "Epoch 34/80\n",
      "\u001b[1m41/41\u001b[0m \u001b[32m━━━━━━━━━━━━━━━━━━━━\u001b[0m\u001b[37m\u001b[0m \u001b[1m18s\u001b[0m 450ms/step - accuracy: 0.9341 - loss: 0.2169 - val_accuracy: 0.9030 - val_loss: 0.4252\n",
      "Epoch 35/80\n",
      "\u001b[1m41/41\u001b[0m \u001b[32m━━━━━━━━━━━━━━━━━━━━\u001b[0m\u001b[37m\u001b[0m \u001b[1m17s\u001b[0m 409ms/step - accuracy: 0.9165 - loss: 0.2473 - val_accuracy: 0.9091 - val_loss: 0.3881\n",
      "Epoch 36/80\n",
      "\u001b[1m41/41\u001b[0m \u001b[32m━━━━━━━━━━━━━━━━━━━━\u001b[0m\u001b[37m\u001b[0m \u001b[1m17s\u001b[0m 410ms/step - accuracy: 0.9302 - loss: 0.2055 - val_accuracy: 0.9152 - val_loss: 0.3977\n",
      "Epoch 37/80\n",
      "\u001b[1m41/41\u001b[0m \u001b[32m━━━━━━━━━━━━━━━━━━━━\u001b[0m\u001b[37m\u001b[0m \u001b[1m18s\u001b[0m 440ms/step - accuracy: 0.9262 - loss: 0.2074 - val_accuracy: 0.9152 - val_loss: 0.3339\n",
      "Epoch 38/80\n",
      "\u001b[1m41/41\u001b[0m \u001b[32m━━━━━━━━━━━━━━━━━━━━\u001b[0m\u001b[37m\u001b[0m \u001b[1m19s\u001b[0m 417ms/step - accuracy: 0.9232 - loss: 0.2088 - val_accuracy: 0.9152 - val_loss: 0.2828\n",
      "Epoch 39/80\n",
      "\u001b[1m41/41\u001b[0m \u001b[32m━━━━━━━━━━━━━━━━━━━━\u001b[0m\u001b[37m\u001b[0m \u001b[1m17s\u001b[0m 411ms/step - accuracy: 0.9237 - loss: 0.2368 - val_accuracy: 0.8909 - val_loss: 0.4020\n",
      "Epoch 40/80\n",
      "\u001b[1m41/41\u001b[0m \u001b[32m━━━━━━━━━━━━━━━━━━━━\u001b[0m\u001b[37m\u001b[0m \u001b[1m18s\u001b[0m 442ms/step - accuracy: 0.9444 - loss: 0.1817 - val_accuracy: 0.8909 - val_loss: 0.3435\n",
      "Epoch 41/80\n",
      "\u001b[1m41/41\u001b[0m \u001b[32m━━━━━━━━━━━━━━━━━━━━\u001b[0m\u001b[37m\u001b[0m \u001b[1m17s\u001b[0m 415ms/step - accuracy: 0.9487 - loss: 0.1621 - val_accuracy: 0.9212 - val_loss: 0.3424\n",
      "Epoch 42/80\n",
      "\u001b[1m41/41\u001b[0m \u001b[32m━━━━━━━━━━━━━━━━━━━━\u001b[0m\u001b[37m\u001b[0m \u001b[1m17s\u001b[0m 413ms/step - accuracy: 0.9486 - loss: 0.1566 - val_accuracy: 0.9091 - val_loss: 0.5097\n",
      "Epoch 43/80\n",
      "\u001b[1m41/41\u001b[0m \u001b[32m━━━━━━━━━━━━━━━━━━━━\u001b[0m\u001b[37m\u001b[0m \u001b[1m18s\u001b[0m 438ms/step - accuracy: 0.9379 - loss: 0.1876 - val_accuracy: 0.9273 - val_loss: 0.4136\n",
      "Epoch 44/80\n",
      "\u001b[1m41/41\u001b[0m \u001b[32m━━━━━━━━━━━━━━━━━━━━\u001b[0m\u001b[37m\u001b[0m \u001b[1m17s\u001b[0m 414ms/step - accuracy: 0.9370 - loss: 0.2237 - val_accuracy: 0.9091 - val_loss: 0.3908\n",
      "Epoch 45/80\n",
      "\u001b[1m41/41\u001b[0m \u001b[32m━━━━━━━━━━━━━━━━━━━━\u001b[0m\u001b[37m\u001b[0m \u001b[1m17s\u001b[0m 414ms/step - accuracy: 0.9419 - loss: 0.1674 - val_accuracy: 0.8727 - val_loss: 0.7813\n",
      "Epoch 46/80\n",
      "\u001b[1m41/41\u001b[0m \u001b[32m━━━━━━━━━━━━━━━━━━━━\u001b[0m\u001b[37m\u001b[0m \u001b[1m18s\u001b[0m 443ms/step - accuracy: 0.9260 - loss: 0.2824 - val_accuracy: 0.9030 - val_loss: 0.3955\n",
      "Epoch 47/80\n",
      "\u001b[1m41/41\u001b[0m \u001b[32m━━━━━━━━━━━━━━━━━━━━\u001b[0m\u001b[37m\u001b[0m \u001b[1m17s\u001b[0m 407ms/step - accuracy: 0.9375 - loss: 0.1695 - val_accuracy: 0.9394 - val_loss: 0.3273\n",
      "Epoch 48/80\n",
      "\u001b[1m41/41\u001b[0m \u001b[32m━━━━━━━━━━━━━━━━━━━━\u001b[0m\u001b[37m\u001b[0m \u001b[1m17s\u001b[0m 416ms/step - accuracy: 0.9595 - loss: 0.1378 - val_accuracy: 0.9273 - val_loss: 0.3809\n",
      "Epoch 49/80\n",
      "\u001b[1m41/41\u001b[0m \u001b[32m━━━━━━━━━━━━━━━━━━━━\u001b[0m\u001b[37m\u001b[0m \u001b[1m18s\u001b[0m 427ms/step - accuracy: 0.9518 - loss: 0.1335 - val_accuracy: 0.9273 - val_loss: 0.4006\n",
      "Epoch 50/80\n",
      "\u001b[1m41/41\u001b[0m \u001b[32m━━━━━━━━━━━━━━━━━━━━\u001b[0m\u001b[37m\u001b[0m \u001b[1m18s\u001b[0m 431ms/step - accuracy: 0.9512 - loss: 0.1222 - val_accuracy: 0.9273 - val_loss: 0.3310\n",
      "Epoch 51/80\n",
      "\u001b[1m41/41\u001b[0m \u001b[32m━━━━━━━━━━━━━━━━━━━━\u001b[0m\u001b[37m\u001b[0m \u001b[1m17s\u001b[0m 412ms/step - accuracy: 0.9541 - loss: 0.1222 - val_accuracy: 0.9212 - val_loss: 0.3687\n",
      "Epoch 52/80\n",
      "\u001b[1m41/41\u001b[0m \u001b[32m━━━━━━━━━━━━━━━━━━━━\u001b[0m\u001b[37m\u001b[0m \u001b[1m17s\u001b[0m 416ms/step - accuracy: 0.9480 - loss: 0.1454 - val_accuracy: 0.9212 - val_loss: 0.3608\n",
      "Epoch 53/80\n",
      "\u001b[1m41/41\u001b[0m \u001b[32m━━━━━━━━━━━━━━━━━━━━\u001b[0m\u001b[37m\u001b[0m \u001b[1m20s\u001b[0m 412ms/step - accuracy: 0.9611 - loss: 0.1137 - val_accuracy: 0.9273 - val_loss: 0.3528\n",
      "Epoch 54/80\n",
      "\u001b[1m41/41\u001b[0m \u001b[32m━━━━━━━━━━━━━━━━━━━━\u001b[0m\u001b[37m\u001b[0m \u001b[1m17s\u001b[0m 422ms/step - accuracy: 0.9468 - loss: 0.1630 - val_accuracy: 0.9333 - val_loss: 0.4462\n",
      "Epoch 55/80\n",
      "\u001b[1m41/41\u001b[0m \u001b[32m━━━━━━━━━━━━━━━━━━━━\u001b[0m\u001b[37m\u001b[0m \u001b[1m18s\u001b[0m 442ms/step - accuracy: 0.9485 - loss: 0.1764 - val_accuracy: 0.9273 - val_loss: 0.3160\n",
      "Epoch 56/80\n",
      "\u001b[1m41/41\u001b[0m \u001b[32m━━━━━━━━━━━━━━━━━━━━\u001b[0m\u001b[37m\u001b[0m \u001b[1m17s\u001b[0m 414ms/step - accuracy: 0.9578 - loss: 0.1131 - val_accuracy: 0.9333 - val_loss: 0.3059\n",
      "Epoch 57/80\n",
      "\u001b[1m41/41\u001b[0m \u001b[32m━━━━━━━━━━━━━━━━━━━━\u001b[0m\u001b[37m\u001b[0m \u001b[1m17s\u001b[0m 412ms/step - accuracy: 0.9532 - loss: 0.1264 - val_accuracy: 0.9212 - val_loss: 0.3473\n",
      "Epoch 58/80\n",
      "\u001b[1m41/41\u001b[0m \u001b[32m━━━━━━━━━━━━━━━━━━━━\u001b[0m\u001b[37m\u001b[0m \u001b[1m18s\u001b[0m 449ms/step - accuracy: 0.9496 - loss: 0.1184 - val_accuracy: 0.9333 - val_loss: 0.3188\n",
      "Epoch 59/80\n",
      "\u001b[1m41/41\u001b[0m \u001b[32m━━━━━━━━━━━━━━━━━━━━\u001b[0m\u001b[37m\u001b[0m \u001b[1m17s\u001b[0m 412ms/step - accuracy: 0.9639 - loss: 0.1059 - val_accuracy: 0.9212 - val_loss: 0.2854\n",
      "Epoch 60/80\n",
      "\u001b[1m41/41\u001b[0m \u001b[32m━━━━━━━━━━━━━━━━━━━━\u001b[0m\u001b[37m\u001b[0m \u001b[1m17s\u001b[0m 410ms/step - accuracy: 0.9379 - loss: 0.1749 - val_accuracy: 0.9333 - val_loss: 0.3643\n",
      "Epoch 61/80\n",
      "\u001b[1m41/41\u001b[0m \u001b[32m━━━━━━━━━━━━━━━━━━━━\u001b[0m\u001b[37m\u001b[0m \u001b[1m21s\u001b[0m 415ms/step - accuracy: 0.9599 - loss: 0.1216 - val_accuracy: 0.9212 - val_loss: 0.4239\n",
      "Epoch 62/80\n",
      "\u001b[1m41/41\u001b[0m \u001b[32m━━━━━━━━━━━━━━━━━━━━\u001b[0m\u001b[37m\u001b[0m \u001b[1m17s\u001b[0m 419ms/step - accuracy: 0.9477 - loss: 0.1553 - val_accuracy: 0.9455 - val_loss: 0.2778\n",
      "Epoch 63/80\n",
      "\u001b[1m41/41\u001b[0m \u001b[32m━━━━━━━━━━━━━━━━━━━━\u001b[0m\u001b[37m\u001b[0m \u001b[1m0s\u001b[0m 413ms/step - accuracy: 0.9680 - loss: 0.0805✅ Akursasi sudah diatas 96%\n",
      "\u001b[1m41/41\u001b[0m \u001b[32m━━━━━━━━━━━━━━━━━━━━\u001b[0m\u001b[37m\u001b[0m \u001b[1m18s\u001b[0m 429ms/step - accuracy: 0.9678 - loss: 0.0813 - val_accuracy: 0.9273 - val_loss: 0.3445\n"
     ]
    }
   ],
   "source": [
    "history = model.fit(train, epochs=80, validation_data=validation, callbacks=[callback_stop, early_stopping])"
   ]
  },
  {
   "cell_type": "markdown",
   "metadata": {
    "id": "XctzCfzbYCBK",
    "jp-MarkdownHeadingCollapsed": true
   },
   "source": [
    "## Evaluasi dan Visualisasi"
   ]
  },
  {
   "cell_type": "markdown",
   "metadata": {
    "id": "TiNIUB8qHAlr",
    "jp-MarkdownHeadingCollapsed": true
   },
   "source": [
    "### Evaluasi"
   ]
  },
  {
   "cell_type": "code",
   "execution_count": null,
   "metadata": {
    "id": "bBwc9lZKHAls"
   },
   "outputs": [],
   "source": [
    "def evaluate(name, dataset):\n",
    "    print(f'🔵 {name}')\n",
    "    loss, acc = model.evaluate(dataset)\n",
    "    print(f'{name} loss: {loss}')\n",
    "    print(f'{name} accuracy: {acc}')"
   ]
  },
  {
   "cell_type": "code",
   "execution_count": null,
   "metadata": {
    "id": "OP11SfLXHAls",
    "outputId": "b02e03e0-d2a0-4733-9be7-fc877b9158b7"
   },
   "outputs": [
    {
     "name": "stdout",
     "output_type": "stream",
     "text": [
      "🔵 train\n",
      "\u001b[1m41/41\u001b[0m \u001b[32m━━━━━━━━━━━━━━━━━━━━\u001b[0m\u001b[37m\u001b[0m \u001b[1m115s\u001b[0m 112ms/step - accuracy: 0.9712 - loss: 0.0651\n",
      "train loss: 0.06271953135728836\n",
      "train accuracy: 0.972540020942688\n"
     ]
    }
   ],
   "source": [
    "evaluate('train', train)"
   ]
  },
  {
   "cell_type": "code",
   "execution_count": null,
   "metadata": {
    "id": "91OVDu9PHAls",
    "outputId": "7d5d82a6-af63-4c05-e669-c5a5192ca900"
   },
   "outputs": [
    {
     "name": "stdout",
     "output_type": "stream",
     "text": [
      "🔵 validation\n",
      "\u001b[1m6/6\u001b[0m \u001b[32m━━━━━━━━━━━━━━━━━━━━\u001b[0m\u001b[37m\u001b[0m \u001b[1m12s\u001b[0m 50ms/step - accuracy: 0.9210 - loss: 0.3383\n",
      "validation loss: 0.34449610114097595\n",
      "validation accuracy: 0.9272727370262146\n"
     ]
    }
   ],
   "source": [
    "evaluate('validation', validation)"
   ]
  },
  {
   "cell_type": "code",
   "execution_count": null,
   "metadata": {
    "colab": {
     "base_uri": "https://localhost:8080/"
    },
    "id": "O11jyhkr-ONx",
    "outputId": "2fe8bf9d-2a5e-4756-ef13-d3223047f947"
   },
   "outputs": [
    {
     "name": "stdout",
     "output_type": "stream",
     "text": [
      "🔵 test\n",
      "\u001b[1m6/6\u001b[0m \u001b[32m━━━━━━━━━━━━━━━━━━━━\u001b[0m\u001b[37m\u001b[0m \u001b[1m0s\u001b[0m 56ms/step - accuracy: 0.9321 - loss: 0.3157\n",
      "test loss: 0.33503201603889465\n",
      "test accuracy: 0.9320987462997437\n"
     ]
    }
   ],
   "source": [
    "evaluate('test', test)"
   ]
  },
  {
   "cell_type": "markdown",
   "metadata": {
    "id": "UiRziPSQHAlt"
   },
   "source": [
    "**Insight**:\n",
    "- Akurasi pada data latih tinggi, hingga mencapai 97%. Ini membuktikan bahwa model belajar dengan baik pada data latih.\n",
    "- Akurasi pada data validasi dan tes hanya mencapai 93%. Ini berarti ada beberapa data yang mungkin kurang dipelajari di dataset tersebut."
   ]
  },
  {
   "cell_type": "markdown",
   "metadata": {
    "id": "QAstTwO9HAlu",
    "jp-MarkdownHeadingCollapsed": true
   },
   "source": [
    "### Visualisasi"
   ]
  },
  {
   "cell_type": "code",
   "execution_count": null,
   "metadata": {
    "id": "yyP1wRhdHAlu"
   },
   "outputs": [],
   "source": [
    "def visualize(name):\n",
    "    plt.figure(figsize=[15, 5])\n",
    "    plt.plot(history.history[name], label='train', marker='o')\n",
    "    plt.plot(history.history[f'val_{name}'], label='val', marker='o')\n",
    "\n",
    "    plt.title(name.capitalize())\n",
    "    plt.xlabel('epoch')\n",
    "    plt.ylabel(name)\n",
    "    plt.grid()\n",
    "    plt.legend()\n",
    "    plt.show()"
   ]
  },
  {
   "cell_type": "code",
   "execution_count": null,
   "metadata": {
    "id": "6B56B8xOHAlu",
    "outputId": "b5188e95-8888-45b5-aa9c-adcf7c2574b9"
   },
   "outputs": [
    {
     "data": {
      "image/png": "[encoded data removed]",
      "text/plain": [
       "<Figure size 1500x500 with 1 Axes>"
      ]
     },
     "metadata": {},
     "output_type": "display_data"
    }
   ],
   "source": [
    "visualize('accuracy')"
   ]
  },
  {
   "cell_type": "code",
   "execution_count": null,
   "metadata": {
    "id": "WcAnUsBgHAlv",
    "outputId": "9863f182-1338-4e8d-eb36-9e9ecaabb7be"
   },
   "outputs": [
    {
     "data": {
      "image/png": "[encoded data removed]",
      "text/plain": [
       "<Figure size 1500x500 with 1 Axes>"
      ]
     },
     "metadata": {},
     "output_type": "display_data"
    }
   ],
   "source": [
    "visualize('loss')"
   ]
  },
  {
   "cell_type": "markdown",
   "metadata": {
    "id": "-EeXHx8kHAlv"
   },
   "source": [
    "**Insight**:\n",
    "- Akurasi membaik semakin lama model dilatih, baik data pelatihan atau data validasi.\n",
    "- Peningkatan akurasi semakin rendah semakin lama model dilatih yang mungkin mengakibatkan *diminishing return* pada data validasi dan tes.\n",
    "- *Loss* membaik semakin lama model dilatih, tapi ini tidak terlalu berpengaruh pada data validasi."
   ]
  },
  {
   "cell_type": "markdown",
   "metadata": {
    "id": "y_fIsUogYFSk",
    "jp-MarkdownHeadingCollapsed": true
   },
   "source": [
    "## Konversi Model"
   ]
  },
  {
   "cell_type": "code",
   "execution_count": null,
   "metadata": {
    "id": "Z1XBWJ2PHsZI"
   },
   "outputs": [],
   "source": [
    "!mkdir models"
   ]
  },
  {
   "cell_type": "code",
   "execution_count": null,
   "metadata": {
    "colab": {
     "base_uri": "https://localhost:8080/"
    },
    "id": "b6zfM_HxIpnN",
    "outputId": "0d80edb6-ff15-45d0-c78a-a9a6161fda6d"
   },
   "outputs": [
    {
     "name": "stderr",
     "output_type": "stream",
     "text": [
      "WARNING:absl:You are saving your model as an HDF5 file via `model.save()` or `keras.saving.save_model(model)`. This file format is considered legacy. We recommend using instead the native Keras format, e.g. `model.save('my_model.keras')` or `keras.saving.save_model(model, 'my_model.keras')`. \n"
     ]
    }
   ],
   "source": [
    "model.save('models/model.h5', include_optimizer=False)"
   ]
  },
  {
   "cell_type": "markdown",
   "metadata": {
    "id": "kARQi17aHAl-",
    "jp-MarkdownHeadingCollapsed": true
   },
   "source": [
    "### SavedModel"
   ]
  },
  {
   "cell_type": "code",
   "execution_count": null,
   "metadata": {
    "id": "VI87Qz4VJFe6"
   },
   "outputs": [],
   "source": [
    "!mkdir models/saved_model"
   ]
  },
  {
   "cell_type": "code",
   "execution_count": null,
   "metadata": {
    "id": "64mFQI5WHAl-"
   },
   "outputs": [],
   "source": [
    "tf.saved_model.save(model, 'models/saved_model')"
   ]
  },
  {
   "cell_type": "markdown",
   "metadata": {
    "id": "LsF2a1gfJXLc",
    "jp-MarkdownHeadingCollapsed": true
   },
   "source": [
    "### TF-Lite"
   ]
  },
  {
   "cell_type": "code",
   "execution_count": null,
   "metadata": {
    "id": "WFdwnCo5JuCi"
   },
   "outputs": [],
   "source": [
    "!mkdir models/tflite_model"
   ]
  },
  {
   "cell_type": "code",
   "execution_count": null,
   "metadata": {
    "id": "1c47x6wAJtHz"
   },
   "outputs": [],
   "source": [
    "converter = tf.lite.TFLiteConverter.from_saved_model('models/saved_model')\n",
    "tflite_model = converter.convert()\n",
    "\n",
    "\n",
    "with tf.io.gfile.GFile('models/tflite_model/model.tflite', 'wb') as f:\n",
    "    f.write(tflite_model)"
   ]
  },
  {
   "cell_type": "markdown",
   "metadata": {
    "id": "WHHO_rfXHAl-",
    "jp-MarkdownHeadingCollapsed": true
   },
   "source": [
    "### TFJS"
   ]
  },
  {
   "cell_type": "code",
   "execution_count": null,
   "metadata": {
    "id": "e4X0cJUpKKQ4"
   },
   "outputs": [],
   "source": [
    "!mkdir models/tfjs_model"
   ]
  },
  {
   "cell_type": "code",
   "execution_count": null,
   "metadata": {
    "colab": {
     "base_uri": "https://localhost:8080/",
     "height": 1000
    },
    "id": "Z_5ryajjJMFz",
    "outputId": "fbf663c0-9159-4e90-9f3b-d93d8d461769"
   },
   "outputs": [
    {
     "name": "stdout",
     "output_type": "stream",
     "text": [
      "Collecting tensorflowjs\n",
      "  Downloading tensorflowjs-4.22.0-py3-none-any.whl.metadata (3.2 kB)\n",
      "Requirement already satisfied: flax>=0.7.2 in /usr/local/lib/python3.11/dist-packages (from tensorflowjs) (0.10.5)\n",
      "Requirement already satisfied: importlib_resources>=5.9.0 in /usr/local/lib/python3.11/dist-packages (from tensorflowjs) (6.5.2)\n",
      "Requirement already satisfied: jax>=0.4.13 in /usr/local/lib/python3.11/dist-packages (from tensorflowjs) (0.5.2)\n",
      "Requirement already satisfied: jaxlib>=0.4.13 in /usr/local/lib/python3.11/dist-packages (from tensorflowjs) (0.5.1)\n",
      "Requirement already satisfied: tensorflow<3,>=2.13.0 in /usr/local/lib/python3.11/dist-packages (from tensorflowjs) (2.18.0)\n",
      "Requirement already satisfied: tf-keras>=2.13.0 in /usr/local/lib/python3.11/dist-packages (from tensorflowjs) (2.18.0)\n",
      "Collecting tensorflow-decision-forests>=1.5.0 (from tensorflowjs)\n",
      "  Downloading tensorflow_decision_forests-1.12.0-cp311-cp311-manylinux_2_17_x86_64.manylinux2014_x86_64.whl.metadata (6.3 kB)\n",
      "Requirement already satisfied: six<2,>=1.16.0 in /usr/local/lib/python3.11/dist-packages (from tensorflowjs) (1.17.0)\n",
      "Requirement already satisfied: tensorflow-hub>=0.16.1 in /usr/local/lib/python3.11/dist-packages (from tensorflowjs) (0.16.1)\n",
      "Collecting packaging~=23.1 (from tensorflowjs)\n",
      "  Downloading packaging-23.2-py3-none-any.whl.metadata (3.2 kB)\n",
      "Requirement already satisfied: numpy>=1.23.2 in /usr/local/lib/python3.11/dist-packages (from flax>=0.7.2->tensorflowjs) (2.0.2)\n",
      "Requirement already satisfied: msgpack in /usr/local/lib/python3.11/dist-packages (from flax>=0.7.2->tensorflowjs) (1.1.0)\n",
      "Requirement already satisfied: optax in /usr/local/lib/python3.11/dist-packages (from flax>=0.7.2->tensorflowjs) (0.2.4)\n",
      "Requirement already satisfied: orbax-checkpoint in /usr/local/lib/python3.11/dist-packages (from flax>=0.7.2->tensorflowjs) (0.11.10)\n",
      "Requirement already satisfied: tensorstore in /usr/local/lib/python3.11/dist-packages (from flax>=0.7.2->tensorflowjs) (0.1.73)\n",
      "Requirement already satisfied: rich>=11.1 in /usr/local/lib/python3.11/dist-packages (from flax>=0.7.2->tensorflowjs) (13.9.4)\n",
      "Requirement already satisfied: typing_extensions>=4.2 in /usr/local/lib/python3.11/dist-packages (from flax>=0.7.2->tensorflowjs) (4.13.0)\n",
      "Requirement already satisfied: PyYAML>=5.4.1 in /usr/local/lib/python3.11/dist-packages (from flax>=0.7.2->tensorflowjs) (6.0.2)\n",
      "Requirement already satisfied: treescope>=0.1.7 in /usr/local/lib/python3.11/dist-packages (from flax>=0.7.2->tensorflowjs) (0.1.9)\n",
      "Requirement already satisfied: ml_dtypes>=0.4.0 in /usr/local/lib/python3.11/dist-packages (from jax>=0.4.13->tensorflowjs) (0.4.1)\n",
      "Requirement already satisfied: opt_einsum in /usr/local/lib/python3.11/dist-packages (from jax>=0.4.13->tensorflowjs) (3.4.0)\n",
      "Requirement already satisfied: scipy>=1.11.1 in /usr/local/lib/python3.11/dist-packages (from jax>=0.4.13->tensorflowjs) (1.14.1)\n",
      "Requirement already satisfied: absl-py>=1.0.0 in /usr/local/lib/python3.11/dist-packages (from tensorflow<3,>=2.13.0->tensorflowjs) (1.4.0)\n",
      "Requirement already satisfied: astunparse>=1.6.0 in /usr/local/lib/python3.11/dist-packages (from tensorflow<3,>=2.13.0->tensorflowjs) (1.6.3)\n",
      "Requirement already satisfied: flatbuffers>=24.3.25 in /usr/local/lib/python3.11/dist-packages (from tensorflow<3,>=2.13.0->tensorflowjs) (25.2.10)\n",
      "Requirement already satisfied: gast!=0.5.0,!=0.5.1,!=0.5.2,>=0.2.1 in /usr/local/lib/python3.11/dist-packages (from tensorflow<3,>=2.13.0->tensorflowjs) (0.6.0)\n",
      "Requirement already satisfied: google-pasta>=0.1.1 in /usr/local/lib/python3.11/dist-packages (from tensorflow<3,>=2.13.0->tensorflowjs) (0.2.0)\n",
      "Requirement already satisfied: libclang>=13.0.0 in /usr/local/lib/python3.11/dist-packages (from tensorflow<3,>=2.13.0->tensorflowjs) (18.1.1)\n",
      "Requirement already satisfied: protobuf!=4.21.0,!=4.21.1,!=4.21.2,!=4.21.3,!=4.21.4,!=4.21.5,<6.0.0dev,>=3.20.3 in /usr/local/lib/python3.11/dist-packages (from tensorflow<3,>=2.13.0->tensorflowjs) (5.29.4)\n",
      "Requirement already satisfied: requests<3,>=2.21.0 in /usr/local/lib/python3.11/dist-packages (from tensorflow<3,>=2.13.0->tensorflowjs) (2.32.3)\n",
      "Requirement already satisfied: setuptools in /usr/local/lib/python3.11/dist-packages (from tensorflow<3,>=2.13.0->tensorflowjs) (75.2.0)\n",
      "Requirement already satisfied: termcolor>=1.1.0 in /usr/local/lib/python3.11/dist-packages (from tensorflow<3,>=2.13.0->tensorflowjs) (3.0.1)\n",
      "Requirement already satisfied: wrapt>=1.11.0 in /usr/local/lib/python3.11/dist-packages (from tensorflow<3,>=2.13.0->tensorflowjs) (1.17.2)\n",
      "Requirement already satisfied: grpcio<2.0,>=1.24.3 in /usr/local/lib/python3.11/dist-packages (from tensorflow<3,>=2.13.0->tensorflowjs) (1.71.0)\n",
      "Requirement already satisfied: tensorboard<2.19,>=2.18 in /usr/local/lib/python3.11/dist-packages (from tensorflow<3,>=2.13.0->tensorflowjs) (2.18.0)\n",
      "Requirement already satisfied: keras>=3.5.0 in /usr/local/lib/python3.11/dist-packages (from tensorflow<3,>=2.13.0->tensorflowjs) (3.8.0)\n",
      "Requirement already satisfied: h5py>=3.11.0 in /usr/local/lib/python3.11/dist-packages (from tensorflow<3,>=2.13.0->tensorflowjs) (3.13.0)\n",
      "Requirement already satisfied: tensorflow-io-gcs-filesystem>=0.23.1 in /usr/local/lib/python3.11/dist-packages (from tensorflow<3,>=2.13.0->tensorflowjs) (0.37.1)\n",
      "Requirement already satisfied: pandas in /usr/local/lib/python3.11/dist-packages (from tensorflow-decision-forests>=1.5.0->tensorflowjs) (2.2.2)\n",
      "Collecting tensorflow<3,>=2.13.0 (from tensorflowjs)\n",
      "  Downloading tensorflow-2.19.0-cp311-cp311-manylinux_2_17_x86_64.manylinux2014_x86_64.whl.metadata (4.1 kB)\n",
      "Requirement already satisfied: wheel in /usr/local/lib/python3.11/dist-packages (from tensorflow-decision-forests>=1.5.0->tensorflowjs) (0.45.1)\n",
      "Collecting wurlitzer (from tensorflow-decision-forests>=1.5.0->tensorflowjs)\n",
      "  Downloading wurlitzer-3.1.1-py3-none-any.whl.metadata (2.5 kB)\n",
      "Collecting tf-keras>=2.13.0 (from tensorflowjs)\n",
      "  Downloading tf_keras-2.19.0-py3-none-any.whl.metadata (1.8 kB)\n",
      "Collecting ydf>=0.11.0 (from tensorflow-decision-forests>=1.5.0->tensorflowjs)\n",
      "  Downloading ydf-0.11.0-cp311-cp311-manylinux_2_17_x86_64.manylinux2014_x86_64.whl.metadata (3.5 kB)\n",
      "Collecting tensorboard~=2.19.0 (from tensorflow<3,>=2.13.0->tensorflowjs)\n",
      "  Downloading tensorboard-2.19.0-py3-none-any.whl.metadata (1.8 kB)\n",
      "Collecting ml_dtypes>=0.4.0 (from jax>=0.4.13->tensorflowjs)\n",
      "  Downloading ml_dtypes-0.5.1-cp311-cp311-manylinux_2_17_x86_64.manylinux2014_x86_64.whl.metadata (21 kB)\n",
      "Requirement already satisfied: namex in /usr/local/lib/python3.11/dist-packages (from keras>=3.5.0->tensorflow<3,>=2.13.0->tensorflowjs) (0.0.8)\n",
      "Requirement already satisfied: optree in /usr/local/lib/python3.11/dist-packages (from keras>=3.5.0->tensorflow<3,>=2.13.0->tensorflowjs) (0.14.1)\n",
      "Requirement already satisfied: charset-normalizer<4,>=2 in /usr/local/lib/python3.11/dist-packages (from requests<3,>=2.21.0->tensorflow<3,>=2.13.0->tensorflowjs) (3.4.1)\n",
      "Requirement already satisfied: idna<4,>=2.5 in /usr/local/lib/python3.11/dist-packages (from requests<3,>=2.21.0->tensorflow<3,>=2.13.0->tensorflowjs) (3.10)\n",
      "Requirement already satisfied: urllib3<3,>=1.21.1 in /usr/local/lib/python3.11/dist-packages (from requests<3,>=2.21.0->tensorflow<3,>=2.13.0->tensorflowjs) (2.3.0)\n",
      "Requirement already satisfied: certifi>=2017.4.17 in /usr/local/lib/python3.11/dist-packages (from requests<3,>=2.21.0->tensorflow<3,>=2.13.0->tensorflowjs) (2025.1.31)\n",
      "Requirement already satisfied: markdown-it-py>=2.2.0 in /usr/local/lib/python3.11/dist-packages (from rich>=11.1->flax>=0.7.2->tensorflowjs) (3.0.0)\n",
      "Requirement already satisfied: pygments<3.0.0,>=2.13.0 in /usr/local/lib/python3.11/dist-packages (from rich>=11.1->flax>=0.7.2->tensorflowjs) (2.18.0)\n",
      "Requirement already satisfied: markdown>=2.6.8 in /usr/local/lib/python3.11/dist-packages (from tensorboard~=2.19.0->tensorflow<3,>=2.13.0->tensorflowjs) (3.7)\n",
      "Requirement already satisfied: tensorboard-data-server<0.8.0,>=0.7.0 in /usr/local/lib/python3.11/dist-packages (from tensorboard~=2.19.0->tensorflow<3,>=2.13.0->tensorflowjs) (0.7.2)\n",
      "Requirement already satisfied: werkzeug>=1.0.1 in /usr/local/lib/python3.11/dist-packages (from tensorboard~=2.19.0->tensorflow<3,>=2.13.0->tensorflowjs) (3.1.3)\n",
      "Requirement already satisfied: chex>=0.1.87 in /usr/local/lib/python3.11/dist-packages (from optax->flax>=0.7.2->tensorflowjs) (0.1.89)\n",
      "Requirement already satisfied: etils[epy] in /usr/local/lib/python3.11/dist-packages (from optax->flax>=0.7.2->tensorflowjs) (1.12.2)\n",
      "Requirement already satisfied: nest_asyncio in /usr/local/lib/python3.11/dist-packages (from orbax-checkpoint->flax>=0.7.2->tensorflowjs) (1.6.0)\n",
      "Requirement already satisfied: humanize in /usr/local/lib/python3.11/dist-packages (from orbax-checkpoint->flax>=0.7.2->tensorflowjs) (4.12.2)\n",
      "Requirement already satisfied: simplejson>=3.16.0 in /usr/local/lib/python3.11/dist-packages (from orbax-checkpoint->flax>=0.7.2->tensorflowjs) (3.20.1)\n",
      "Requirement already satisfied: python-dateutil>=2.8.2 in /usr/local/lib/python3.11/dist-packages (from pandas->tensorflow-decision-forests>=1.5.0->tensorflowjs) (2.8.2)\n",
      "Requirement already satisfied: pytz>=2020.1 in /usr/local/lib/python3.11/dist-packages (from pandas->tensorflow-decision-forests>=1.5.0->tensorflowjs) (2025.2)\n",
      "Requirement already satisfied: tzdata>=2022.7 in /usr/local/lib/python3.11/dist-packages (from pandas->tensorflow-decision-forests>=1.5.0->tensorflowjs) (2025.2)\n",
      "Requirement already satisfied: toolz>=0.9.0 in /usr/local/lib/python3.11/dist-packages (from chex>=0.1.87->optax->flax>=0.7.2->tensorflowjs) (0.12.1)\n",
      "Requirement already satisfied: mdurl~=0.1 in /usr/local/lib/python3.11/dist-packages (from markdown-it-py>=2.2.0->rich>=11.1->flax>=0.7.2->tensorflowjs) (0.1.2)\n",
      "Requirement already satisfied: MarkupSafe>=2.1.1 in /usr/local/lib/python3.11/dist-packages (from werkzeug>=1.0.1->tensorboard~=2.19.0->tensorflow<3,>=2.13.0->tensorflowjs) (3.0.2)\n",
      "Requirement already satisfied: fsspec in /usr/local/lib/python3.11/dist-packages (from etils[epath,epy]->orbax-checkpoint->flax>=0.7.2->tensorflowjs) (2025.3.2)\n",
      "Requirement already satisfied: zipp in /usr/local/lib/python3.11/dist-packages (from etils[epath,epy]->orbax-checkpoint->flax>=0.7.2->tensorflowjs) (3.21.0)\n",
      "Downloading tensorflowjs-4.22.0-py3-none-any.whl (89 kB)\n",
      "\u001b[2K   \u001b[90m━━━━━━━━━━━━━━━━━━━━━━━━━━━━━━━━━━━━━━━━\u001b[0m \u001b[32m89.1/89.1 kB\u001b[0m \u001b[31m3.6 MB/s\u001b[0m eta \u001b[36m0:00:00\u001b[0m\n",
      "\u001b[?25hDownloading packaging-23.2-py3-none-any.whl (53 kB)\n",
      "\u001b[2K   \u001b[90m━━━━━━━━━━━━━━━━━━━━━━━━━━━━━━━━━━━━━━━━\u001b[0m \u001b[32m53.0/53.0 kB\u001b[0m \u001b[31m3.3 MB/s\u001b[0m eta \u001b[36m0:00:00\u001b[0m\n",
      "\u001b[?25hDownloading tensorflow_decision_forests-1.12.0-cp311-cp311-manylinux_2_17_x86_64.manylinux2014_x86_64.whl (16.1 MB)\n",
      "\u001b[2K   \u001b[90m━━━━━━━━━━━━━━━━━━━━━━━━━━━━━━━━━━━━━━━━\u001b[0m \u001b[32m16.1/16.1 MB\u001b[0m \u001b[31m56.0 MB/s\u001b[0m eta \u001b[36m0:00:00\u001b[0m\n",
      "\u001b[?25hDownloading tensorflow-2.19.0-cp311-cp311-manylinux_2_17_x86_64.manylinux2014_x86_64.whl (644.9 MB)\n",
      "\u001b[2K   \u001b[90m━━━━━━━━━━━━━━━━━━━━━━━━━━━━━━━━━━━━━━━━\u001b[0m \u001b[32m644.9/644.9 MB\u001b[0m \u001b[31m1.2 MB/s\u001b[0m eta \u001b[36m0:00:00\u001b[0m\n",
      "\u001b[?25hDownloading tf_keras-2.19.0-py3-none-any.whl (1.7 MB)\n",
      "\u001b[2K   \u001b[90m━━━━━━━━━━━━━━━━━━━━━━━━━━━━━━━━━━━━━━━━\u001b[0m \u001b[32m1.7/1.7 MB\u001b[0m \u001b[31m42.6 MB/s\u001b[0m eta \u001b[36m0:00:00\u001b[0m\n",
      "\u001b[?25hDownloading ml_dtypes-0.5.1-cp311-cp311-manylinux_2_17_x86_64.manylinux2014_x86_64.whl (4.7 MB)\n",
      "\u001b[2K   \u001b[90m━━━━━━━━━━━━━━━━━━━━━━━━━━━━━━━━━━━━━━━━\u001b[0m \u001b[32m4.7/4.7 MB\u001b[0m \u001b[31m65.6 MB/s\u001b[0m eta \u001b[36m0:00:00\u001b[0m\n",
      "\u001b[?25hDownloading tensorboard-2.19.0-py3-none-any.whl (5.5 MB)\n",
      "\u001b[2K   \u001b[90m━━━━━━━━━━━━━━━━━━━━━━━━━━━━━━━━━━━━━━━━\u001b[0m \u001b[32m5.5/5.5 MB\u001b[0m \u001b[31m61.8 MB/s\u001b[0m eta \u001b[36m0:00:00\u001b[0m\n",
      "\u001b[?25hDownloading ydf-0.11.0-cp311-cp311-manylinux_2_17_x86_64.manylinux2014_x86_64.whl (12.0 MB)\n",
      "\u001b[2K   \u001b[90m━━━━━━━━━━━━━━━━━━━━━━━━━━━━━━━━━━━━━━━━\u001b[0m \u001b[32m12.0/12.0 MB\u001b[0m \u001b[31m72.5 MB/s\u001b[0m eta \u001b[36m0:00:00\u001b[0m\n",
      "\u001b[?25hDownloading wurlitzer-3.1.1-py3-none-any.whl (8.6 kB)\n",
      "Installing collected packages: ydf, wurlitzer, packaging, ml_dtypes, tensorboard, tensorflow, tf-keras, tensorflow-decision-forests, tensorflowjs\n",
      "  Attempting uninstall: packaging\n",
      "    Found existing installation: packaging 24.2\n",
      "    Uninstalling packaging-24.2:\n",
      "      Successfully uninstalled packaging-24.2\n",
      "  Attempting uninstall: ml_dtypes\n",
      "    Found existing installation: ml-dtypes 0.4.1\n",
      "    Uninstalling ml-dtypes-0.4.1:\n",
      "      Successfully uninstalled ml-dtypes-0.4.1\n",
      "  Attempting uninstall: tensorboard\n",
      "    Found existing installation: tensorboard 2.18.0\n",
      "    Uninstalling tensorboard-2.18.0:\n",
      "      Successfully uninstalled tensorboard-2.18.0\n",
      "  Attempting uninstall: tensorflow\n",
      "    Found existing installation: tensorflow 2.18.0\n",
      "    Uninstalling tensorflow-2.18.0:\n",
      "      Successfully uninstalled tensorflow-2.18.0\n",
      "  Attempting uninstall: tf-keras\n",
      "    Found existing installation: tf_keras 2.18.0\n",
      "    Uninstalling tf_keras-2.18.0:\n",
      "      Successfully uninstalled tf_keras-2.18.0\n",
      "\u001b[31mERROR: pip's dependency resolver does not currently take into account all the packages that are installed. This behaviour is the source of the following dependency conflicts.\n",
      "tensorflow-text 2.18.1 requires tensorflow<2.19,>=2.18.0, but you have tensorflow 2.19.0 which is incompatible.\n",
      "google-cloud-bigquery 3.31.0 requires packaging>=24.2.0, but you have packaging 23.2 which is incompatible.\u001b[0m\u001b[31m\n",
      "\u001b[0mSuccessfully installed ml_dtypes-0.5.1 packaging-23.2 tensorboard-2.19.0 tensorflow-2.19.0 tensorflow-decision-forests-1.12.0 tensorflowjs-4.22.0 tf-keras-2.19.0 wurlitzer-3.1.1 ydf-0.11.0\n"
     ]
    },
    {
     "data": {
      "application/vnd.colab-display-data+json": {
       "id": "ec508b61441a43e9ac51e529627072fc",
       "pip_warning": {
        "packages": [
         "ml_dtypes",
         "tensorflow"
        ]
       }
      }
     },
     "metadata": {},
     "output_type": "display_data"
    }
   ],
   "source": [
    "!pip install tensorflowjs"
   ]
  },
  {
   "cell_type": "code",
   "execution_count": null,
   "metadata": {
    "colab": {
     "base_uri": "https://localhost:8080/"
    },
    "id": "tlJnNu4MHAl_",
    "outputId": "d5ff1bee-eec4-4cb4-8511-f801ba5354e9"
   },
   "outputs": [
    {
     "name": "stdout",
     "output_type": "stream",
     "text": [
      "2025-04-07 16:37:04.438494: E external/local_xla/xla/stream_executor/cuda/cuda_fft.cc:467] Unable to register cuFFT factory: Attempting to register factory for plugin cuFFT when one has already been registered\n",
      "WARNING: All log messages before absl::InitializeLog() is called are written to STDERR\n",
      "E0000 00:00:1744043824.468265    7994 cuda_dnn.cc:8579] Unable to register cuDNN factory: Attempting to register factory for plugin cuDNN when one has already been registered\n",
      "E0000 00:00:1744043824.476871    7994 cuda_blas.cc:1407] Unable to register cuBLAS factory: Attempting to register factory for plugin cuBLAS when one has already been registered\n",
      "W0000 00:00:1744043824.497842    7994 computation_placer.cc:177] computation placer already registered. Please check linkage and avoid linking the same target more than once.\n",
      "W0000 00:00:1744043824.497920    7994 computation_placer.cc:177] computation placer already registered. Please check linkage and avoid linking the same target more than once.\n",
      "W0000 00:00:1744043824.497926    7994 computation_placer.cc:177] computation placer already registered. Please check linkage and avoid linking the same target more than once.\n",
      "W0000 00:00:1744043824.497931    7994 computation_placer.cc:177] computation placer already registered. Please check linkage and avoid linking the same target more than once.\n",
      "\u001b[32m🌲 Try \u001b[0m\u001b[34mhttps://ydf.readthedocs.io\u001b[0m\u001b[32m, the successor of TensorFlow Decision Forests with more features and faster training!\u001b[0m\n",
      "failed to lookup keras version from the file,\n",
      "    this is likely a weight only file\n"
     ]
    }
   ],
   "source": [
    "!tensorflowjs_converter --input_format=keras models/model.h5 models/tfjs_model"
   ]
  },
  {
   "cell_type": "markdown",
   "metadata": {
    "id": "8DbfEwvvm5U4",
    "jp-MarkdownHeadingCollapsed": true
   },
   "source": [
    "## Inference (Optional)"
   ]
  },
  {
   "cell_type": "code",
   "execution_count": null,
   "metadata": {
    "id": "1kx_upwOHAl3",
    "outputId": "705d29df-ee82-4a5a-8fe9-40cfe2b493c7"
   },
   "outputs": [
    {
     "name": "stdout",
     "output_type": "stream",
     "text": [
      "\u001b[1m6/6\u001b[0m \u001b[32m━━━━━━━━━━━━━━━━━━━━\u001b[0m\u001b[37m\u001b[0m \u001b[1m14s\u001b[0m 54ms/step\n"
     ]
    }
   ],
   "source": [
    "predicted = model.predict(test)"
   ]
  },
  {
   "cell_type": "code",
   "execution_count": null,
   "metadata": {
    "id": "ATFS91-UHAl3"
   },
   "outputs": [],
   "source": [
    "y_pred = np.argmax(predicted, axis=1)\n",
    "y_true = test.classes"
   ]
  },
  {
   "cell_type": "code",
   "execution_count": null,
   "metadata": {
    "id": "wVW43ubCHAl4",
    "outputId": "d5025224-7ec8-406b-aa75-2669cf77f42c"
   },
   "outputs": [
    {
     "name": "stdout",
     "output_type": "stream",
     "text": [
      "dict_keys(['echinacea', 'marigold', 'markisa', 'sepatu', 'teratai'])"
     ]
    }
   ],
   "source": [
    "label = test.class_indices.keys()\n",
    "label"
   ]
  },
  {
   "cell_type": "code",
   "execution_count": null,
   "metadata": {
    "id": "IFh6EoTyHAl4",
    "outputId": "f22e5490-a4d9-4d80-d5d0-542be154322a"
   },
   "outputs": [
    {
     "data": {
      "image/png": "[encoded data removed]",
      "text/plain": [
       "<Figure size 640x480 with 2 Axes>"
      ]
     },
     "metadata": {},
     "output_type": "display_data"
    }
   ],
   "source": [
    "sns.heatmap(confusion_matrix(y_true, y_pred), annot=True, fmt='d', cmap='Blues', xticklabels=label, yticklabels=label)\n",
    "plt.xlabel(\"Predicted\")\n",
    "plt.ylabel(\"Actual\")\n",
    "plt.title(\"Confusion Matrix\")\n",
    "plt.show()"
   ]
  },
  {
   "cell_type": "code",
   "execution_count": null,
   "metadata": {
    "id": "lRj-9NMgHAl5",
    "outputId": "c617568d-0d61-4437-d9ae-a0f7d43033c2"
   },
   "outputs": [
    {
     "name": "stdout",
     "output_type": "stream",
     "text": [
      "              precision    recall  f1-score   support\n",
      "\n",
      "   echinacea       0.97      0.91      0.94        35\n",
      "    marigold       0.94      0.94      0.94        34\n",
      "     markisa       0.88      1.00      0.94        30\n",
      "      sepatu       0.94      0.91      0.92        32\n",
      "     teratai       0.93      0.90      0.92        31\n",
      "\n",
      "    accuracy                           0.93       162\n",
      "   macro avg       0.93      0.93      0.93       162\n",
      "weighted avg       0.93      0.93      0.93       162\n",
      "\n"
     ]
    }
   ],
   "source": [
    "print(classification_report(y_true, y_pred, target_names=label))"
   ]
  },
  {
   "cell_type": "markdown",
   "metadata": {
    "id": "IHY1-aKaHAl5"
   },
   "source": [
    "**Insight**:\n",
    "- Kelas `markisa` memiliki presisi terendah, tapi memiliki recall yang sempurna. Ini berarti model lebih menekankan prediksi untuk kelas `markisa` sehingga banyak prediksi untuk kelas tersebut.\n",
    "- Kelas lainnya memiliki presisi tinggi, tapi memiliki recall yang rendah. Ini berkebalikan dengan kelas `markisa`."
   ]
  },
  {
   "cell_type": "markdown",
   "metadata": {
    "id": "Bp4Ua_gxPA95",
    "jp-MarkdownHeadingCollapsed": true
   },
   "source": [
    "## Setup untuk Submission"
   ]
  },
  {
   "cell_type": "markdown",
   "metadata": {
    "jp-MarkdownHeadingCollapsed": true
   },
   "source": [
    "### Ubah ke Zip"
   ]
  },
  {
   "cell_type": "code",
   "execution_count": null,
   "metadata": {
    "id": "N9Z4rwfJPdnK"
   },
   "outputs": [],
   "source": [
    "import zipfile\n",
    "import os"
   ]
  },
  {
   "cell_type": "code",
   "execution_count": null,
   "metadata": {
    "id": "rMlsxg7mOpUT"
   },
   "outputs": [],
   "source": [
    "with zipfile.ZipFile('models.zip', 'w', zipfile.ZIP_DEFLATED) as zipf:\n",
    "  for root, _, files in os.walk('models'):\n",
    "    for file in files:\n",
    "      file_path = os.path.join(root, file)\n",
    "      relative_path = os.path.relpath(file_path, 'models')\n",
    "      zipf.write(file_path, relative_path)"
   ]
  },
  {
   "cell_type": "markdown",
   "metadata": {
    "jp-MarkdownHeadingCollapsed": true
   },
   "source": [
    "### Buat `requirenments.txt`"
   ]
  },
  {
   "cell_type": "code",
   "execution_count": null,
   "metadata": {
    "colab": {
     "base_uri": "https://localhost:8080/"
    },
    "id": "QvbQt9rjg0Fm",
    "outputId": "efba3e25-0677-4417-bb49-9a976945548f"
   },
   "outputs": [
    {
     "name": "stdout",
     "output_type": "stream",
     "text": [
      "absl-py==1.4.0\n",
      "accelerate==1.5.2\n",
      "aiohappyeyeballs==2.6.1\n",
      "aiohttp==3.11.15\n",
      "aiosignal==1.3.2\n",
      "alabaster==1.0.0\n",
      "albucore==0.0.23\n",
      "albumentations==2.0.5\n",
      "ale-py==0.10.2\n",
      "altair==5.5.0\n",
      "annotated-types==0.7.0\n",
      "anyio==4.9.0\n",
      "argon2-cffi==23.1.0\n",
      "argon2-cffi-bindings==21.2.0\n",
      "array_record==0.7.1\n",
      "arviz==0.21.0\n",
      "astropy==7.0.1\n",
      "astropy-iers-data==0.2025.3.31.0.36.18\n",
      "asttokens==3.0.0\n",
      "astunparse==1.6.3\n",
      "atpublic==5.1\n",
      "attrs==25.3.0\n",
      "audioread==3.0.1\n",
      "autograd==1.7.0\n",
      "babel==2.17.0\n",
      "backcall==0.2.0\n",
      "beautifulsoup4==4.13.3\n",
      "betterproto==2.0.0b6\n",
      "bigframes==1.42.0\n",
      "bigquery-magics==0.9.0\n",
      "bleach==6.2.0\n",
      "blinker==1.9.0\n",
      "blis==1.2.1\n",
      "blosc2==3.2.1\n",
      "bokeh==3.6.3\n",
      "Bottleneck==1.4.2\n",
      "bqplot==0.12.44\n",
      "branca==0.8.1\n",
      "CacheControl==0.14.2\n",
      "cachetools==5.5.2\n",
      "catalogue==2.0.10\n",
      "certifi==2025.1.31\n",
      "cffi==1.17.1\n",
      "chardet==5.2.0\n",
      "charset-normalizer==3.4.1\n",
      "chex==0.1.89\n",
      "clarabel==0.10.0\n",
      "click==8.1.8\n",
      "cloudpathlib==0.21.0\n",
      "cloudpickle==3.1.1\n",
      "cmake==3.31.6\n",
      "cmdstanpy==1.2.5\n",
      "colorcet==3.1.0\n",
      "colorlover==0.3.0\n",
      "colour==0.1.5\n",
      "community==1.0.0b1\n",
      "confection==0.1.5\n",
      "cons==0.4.6\n",
      "contourpy==1.3.1\n",
      "cramjam==2.9.1\n",
      "cryptography==43.0.3\n",
      "cuda-python==12.6.2.post1\n",
      "cudf-cu12 @ https://pypi.nvidia.com/cudf-cu12/cudf_cu12-25.2.1-cp311-cp311-manylinux_2_24_x86_64.manylinux_2_28_x86_64.whl\n",
      "cudf-polars-cu12==25.2.2\n",
      "cufflinks==0.17.3\n",
      "cuml-cu12==25.2.1\n",
      "cupy-cuda12x==13.3.0\n",
      "cuvs-cu12==25.2.1\n",
      "cvxopt==1.3.2\n",
      "cvxpy==1.6.4\n",
      "cycler==0.12.1\n",
      "cyipopt==1.5.0\n",
      "cymem==2.0.11\n",
      "Cython==3.0.12\n",
      "dask==2024.12.1\n",
      "dask-cuda==25.2.0\n",
      "dask-cudf-cu12==25.2.2\n",
      "dask-expr==1.1.21\n",
      "datascience==0.17.6\n",
      "db-dtypes==1.4.2\n",
      "dbus-python==1.2.18\n",
      "debugpy==1.8.0\n",
      "decorator==4.4.2\n",
      "defusedxml==0.7.1\n",
      "Deprecated==1.2.18\n",
      "diffusers==0.32.2\n",
      "distributed==2024.12.1\n",
      "distributed-ucxx-cu12==0.42.0\n",
      "distro==1.9.0\n",
      "dlib==19.24.6\n",
      "dm-tree==0.1.9\n",
      "docker-pycreds==0.4.0\n",
      "docopt==0.6.2\n",
      "docstring_parser==0.16\n",
      "docutils==0.21.2\n",
      "dopamine_rl==4.1.2\n",
      "duckdb==1.2.1\n",
      "earthengine-api==1.5.9\n",
      "easydict==1.13\n",
      "editdistance==0.8.1\n",
      "eerepr==0.1.1\n",
      "einops==0.8.1\n",
      "en_core_web_sm @ https://github.com/explosion/spacy-models/releases/download/en_core_web_sm-3.8.0/en_core_web_sm-3.8.0-py3-none-any.whl#sha256=1932429db727d4bff3deed6b34cfc05df17794f4a52eeb26cf8928f7c1a0fb85\n",
      "entrypoints==0.4\n",
      "et_xmlfile==2.0.0\n",
      "etils==1.12.2\n",
      "etuples==0.3.9\n",
      "executing==2.2.0\n",
      "Farama-Notifications==0.0.4\n",
      "fastai==2.7.19\n",
      "fastcore==1.7.29\n",
      "fastdownload==0.0.7\n",
      "fastjsonschema==2.21.1\n",
      "fastprogress==1.0.3\n",
      "fastrlock==0.8.3\n",
      "filelock==3.18.0\n",
      "firebase-admin==6.7.0\n",
      "Flask==3.1.0\n",
      "flatbuffers==25.2.10\n",
      "flax==0.10.5\n",
      "folium==0.19.5\n",
      "fonttools==4.56.0\n",
      "frozendict==2.4.6\n",
      "frozenlist==1.5.0\n",
      "fsspec==2025.3.2\n",
      "future==1.0.0\n",
      "gast==0.6.0\n",
      "gcsfs==2025.3.2\n",
      "GDAL==3.6.4\n",
      "gdown==5.2.0\n",
      "geemap==0.35.3\n",
      "geocoder==1.38.1\n",
      "geographiclib==2.0\n",
      "geopandas==1.0.1\n",
      "geopy==2.4.1\n",
      "gin-config==0.5.0\n",
      "gitdb==4.0.12\n",
      "GitPython==3.1.44\n",
      "glob2==0.7\n",
      "google==2.0.3\n",
      "google-ai-generativelanguage==0.6.15\n",
      "google-api-core==2.24.2\n",
      "google-api-python-client==2.164.0\n",
      "google-auth==2.38.0\n",
      "google-auth-httplib2==0.2.0\n",
      "google-auth-oauthlib==1.2.1\n",
      "google-cloud-aiplatform==1.87.0\n",
      "google-cloud-bigquery==3.31.0\n",
      "google-cloud-bigquery-connection==1.18.2\n",
      "google-cloud-bigquery-storage==2.30.0\n",
      "google-cloud-bigtable==2.30.0\n",
      "google-cloud-core==2.4.3\n",
      "google-cloud-dataproc==5.18.1\n",
      "google-cloud-datastore==2.20.2\n",
      "google-cloud-firestore==2.20.1\n",
      "google-cloud-functions==1.20.2\n",
      "google-cloud-iam==2.18.3\n",
      "google-cloud-language==2.17.1\n",
      "google-cloud-pubsub==2.29.0\n",
      "google-cloud-resource-manager==1.14.2\n",
      "google-cloud-spanner==3.53.0\n",
      "google-cloud-storage==2.19.0\n",
      "google-cloud-translate==3.20.2\n",
      "google-colab @ file:///colabtools/dist/google_colab-1.0.0.tar.gz\n",
      "google-crc32c==1.7.1\n",
      "google-genai==1.9.0\n",
      "google-generativeai==0.8.4\n",
      "google-pasta==0.2.0\n",
      "google-resumable-media==2.7.2\n",
      "google-spark-connect==0.5.2\n",
      "googleapis-common-protos==1.69.2\n",
      "googledrivedownloader==1.1.0\n",
      "graphviz==0.20.3\n",
      "greenlet==3.1.1\n",
      "grpc-google-iam-v1==0.14.2\n",
      "grpc-interceptor==0.15.4\n",
      "grpcio==1.71.0\n",
      "grpcio-status==1.71.0\n",
      "grpclib==0.4.7\n",
      "gspread==6.2.0\n",
      "gspread-dataframe==4.0.0\n",
      "gym==0.25.2\n",
      "gym-notices==0.0.8\n",
      "gymnasium==1.1.1\n",
      "h11==0.14.0\n",
      "h2==4.2.0\n",
      "h5netcdf==1.6.1\n",
      "h5py==3.13.0\n",
      "hdbscan==0.8.40\n",
      "highspy==1.9.0\n",
      "holidays==0.69\n",
      "holoviews==1.20.2\n",
      "hpack==4.1.0\n",
      "html5lib==1.1\n",
      "httpcore==1.0.7\n",
      "httpimport==1.4.1\n",
      "httplib2==0.22.0\n",
      "httpx==0.28.1\n",
      "huggingface-hub==0.30.1\n",
      "humanize==4.12.2\n",
      "hyperframe==6.1.0\n",
      "hyperopt==0.2.7\n",
      "ibis-framework==9.5.0\n",
      "idna==3.10\n",
      "imageio==2.37.0\n",
      "imageio-ffmpeg==0.6.0\n",
      "imagesize==1.4.1\n",
      "imbalanced-learn==0.13.0\n",
      "immutabledict==4.2.1\n",
      "importlib_metadata==8.6.1\n",
      "importlib_resources==6.5.2\n",
      "imutils==0.5.4\n",
      "inflect==7.5.0\n",
      "iniconfig==2.1.0\n",
      "intel-cmplr-lib-ur==2025.1.0\n",
      "intel-openmp==2025.1.0\n",
      "ipyevents==2.0.2\n",
      "ipyfilechooser==0.6.0\n",
      "ipykernel==6.17.1\n",
      "ipyleaflet==0.19.2\n",
      "ipyparallel==8.8.0\n",
      "ipython==8.12.3\n",
      "ipython-genutils==0.2.0\n",
      "ipython-sql==0.5.0\n",
      "ipytree==0.2.2\n",
      "ipywidgets==7.7.1\n",
      "itsdangerous==2.2.0\n",
      "jax==0.5.2\n",
      "jax-cuda12-pjrt==0.5.1\n",
      "jax-cuda12-plugin==0.5.1\n",
      "jaxlib==0.5.1\n",
      "jedi==0.19.2\n",
      "jeepney==0.7.1\n",
      "jellyfish==1.1.0\n",
      "jieba==0.42.1\n",
      "Jinja2==3.1.6\n",
      "jiter==0.9.0\n",
      "joblib==1.4.2\n",
      "jsonpatch==1.33\n",
      "jsonpickle==4.0.5\n",
      "jsonpointer==3.0.0\n",
      "jsonschema==4.23.0\n",
      "jsonschema-specifications==2024.10.1\n",
      "jupyter-client==6.1.12\n",
      "jupyter-console==6.1.0\n",
      "jupyter-leaflet==0.19.2\n",
      "jupyter-server==1.16.0\n",
      "jupyter_core==5.7.2\n",
      "jupyterlab_pygments==0.3.0\n",
      "jupyterlab_widgets==3.0.13\n",
      "kaggle==1.7.4.2\n",
      "kagglehub==0.3.11\n",
      "keras==3.8.0\n",
      "keras-hub==0.18.1\n",
      "keras-nlp==0.18.1\n",
      "keyring==23.5.0\n",
      "kiwisolver==1.4.8\n",
      "langchain==0.3.22\n",
      "langchain-core==0.3.49\n",
      "langchain-text-splitters==0.3.7\n",
      "langcodes==3.5.0\n",
      "langsmith==0.3.22\n",
      "language_data==1.3.0\n",
      "launchpadlib==1.10.16\n",
      "lazr.restfulclient==0.14.4\n",
      "lazr.uri==1.0.6\n",
      "lazy_loader==0.4\n",
      "libclang==18.1.1\n",
      "libcudf-cu12 @ https://pypi.nvidia.com/libcudf-cu12/libcudf_cu12-25.2.1-py3-none-manylinux_2_28_x86_64.whl\n",
      "libcugraph-cu12==25.2.0\n",
      "libcuml-cu12==25.2.1\n",
      "libcuvs-cu12==25.2.1\n",
      "libkvikio-cu12==25.2.1\n",
      "libraft-cu12==25.2.0\n",
      "librosa==0.11.0\n",
      "libucx-cu12==1.18.0\n",
      "libucxx-cu12==0.42.0\n",
      "lightgbm==4.5.0\n",
      "linkify-it-py==2.0.3\n",
      "llvmlite==0.43.0\n",
      "locket==1.0.0\n",
      "logical-unification==0.4.6\n",
      "lxml==5.3.1\n",
      "Mako==1.1.3\n",
      "marisa-trie==1.2.1\n",
      "Markdown==3.7\n",
      "markdown-it-py==3.0.0\n",
      "MarkupSafe==3.0.2\n",
      "matplotlib==3.10.0\n",
      "matplotlib-inline==0.1.7\n",
      "matplotlib-venn==1.1.2\n",
      "mdit-py-plugins==0.4.2\n",
      "mdurl==0.1.2\n",
      "miniKanren==1.0.3\n",
      "missingno==0.5.2\n",
      "mistune==3.1.3\n",
      "mizani==0.13.1\n",
      "mkl==2025.0.1\n",
      "ml_dtypes==0.5.1\n",
      "mlxtend==0.23.4\n",
      "more-itertools==10.6.0\n",
      "moviepy==1.0.3\n",
      "mpmath==1.3.0\n",
      "msgpack==1.1.0\n",
      "multidict==6.3.1\n",
      "multipledispatch==1.0.0\n",
      "multitasking==0.0.11\n",
      "murmurhash==1.0.12\n",
      "music21==9.3.0\n",
      "namex==0.0.8\n",
      "narwhals==1.33.0\n",
      "natsort==8.4.0\n",
      "nbclassic==1.2.0\n",
      "nbclient==0.10.2\n",
      "nbconvert==7.16.6\n",
      "nbformat==5.10.4\n",
      "ndindex==1.9.2\n",
      "nest-asyncio==1.6.0\n",
      "networkx==3.4.2\n",
      "nibabel==5.3.2\n",
      "nltk==3.9.1\n",
      "notebook==6.5.7\n",
      "notebook_shim==0.2.4\n",
      "numba==0.60.0\n",
      "numba-cuda==0.2.0\n",
      "numexpr==2.10.2\n",
      "numpy==2.0.2\n",
      "nvidia-cublas-cu12==12.5.3.2\n",
      "nvidia-cuda-cupti-cu12==12.5.82\n",
      "nvidia-cuda-nvcc-cu12==12.5.82\n",
      "nvidia-cuda-nvrtc-cu12==12.5.82\n",
      "nvidia-cuda-runtime-cu12==12.5.82\n",
      "nvidia-cudnn-cu12==9.3.0.75\n",
      "nvidia-cufft-cu12==11.2.3.61\n",
      "nvidia-curand-cu12==10.3.6.82\n",
      "nvidia-cusolver-cu12==11.6.3.83\n",
      "nvidia-cusparse-cu12==12.5.1.3\n",
      "nvidia-cusparselt-cu12==0.6.2\n",
      "nvidia-ml-py==12.570.86\n",
      "nvidia-nccl-cu12==2.21.5\n",
      "nvidia-nvcomp-cu12==4.2.0.11\n",
      "nvidia-nvjitlink-cu12==12.5.82\n",
      "nvidia-nvtx-cu12==12.4.127\n",
      "nvtx==0.2.11\n",
      "nx-cugraph-cu12 @ https://pypi.nvidia.com/nx-cugraph-cu12/nx_cugraph_cu12-25.2.0-py3-none-any.whl\n",
      "oauth2client==4.1.3\n",
      "oauthlib==3.2.2\n",
      "openai==1.70.0\n",
      "opencv-contrib-python==4.11.0.86\n",
      "opencv-python==4.11.0.86\n",
      "opencv-python-headless==4.11.0.86\n",
      "openpyxl==3.1.5\n",
      "opentelemetry-api==1.31.1\n",
      "opentelemetry-sdk==1.31.1\n",
      "opentelemetry-semantic-conventions==0.52b1\n",
      "opt_einsum==3.4.0\n",
      "optax==0.2.4\n",
      "optree==0.14.1\n",
      "orbax-checkpoint==0.11.10\n",
      "orjson==3.10.16\n",
      "osqp==1.0.3\n",
      "packaging==23.2\n",
      "pandas==2.2.2\n",
      "pandas-datareader==0.10.0\n",
      "pandas-gbq==0.28.0\n",
      "pandas-stubs==2.2.2.240909\n",
      "pandocfilters==1.5.1\n",
      "panel==1.6.2\n",
      "param==2.2.0\n",
      "parso==0.8.4\n",
      "parsy==2.1\n",
      "partd==1.4.2\n",
      "pathlib==1.0.1\n",
      "patsy==1.0.1\n",
      "peewee==3.17.9\n",
      "peft==0.14.0\n",
      "pexpect==4.9.0\n",
      "pickleshare==0.7.5\n",
      "pillow==11.1.0\n",
      "pipreqs==0.5.0\n",
      "platformdirs==4.3.7\n",
      "plotly==5.24.1\n",
      "plotnine==0.14.5\n",
      "pluggy==1.5.0\n",
      "ply==3.11\n",
      "polars==1.21.0\n",
      "pooch==1.8.2\n",
      "portpicker==1.5.2\n",
      "preshed==3.0.9\n",
      "prettytable==3.16.0\n",
      "proglog==0.1.11\n",
      "progressbar2==4.5.0\n",
      "prometheus_client==0.21.1\n",
      "promise==2.3\n",
      "prompt_toolkit==3.0.50\n",
      "propcache==0.3.1\n",
      "prophet==1.1.6\n",
      "proto-plus==1.26.1\n",
      "protobuf==5.29.4\n",
      "psutil==5.9.5\n",
      "psycopg2==2.9.10\n",
      "ptyprocess==0.7.0\n",
      "pure_eval==0.2.3\n",
      "py-cpuinfo==9.0.0\n",
      "py4j==0.10.9.7\n",
      "pyarrow==18.1.0\n",
      "pyasn1==0.6.1\n",
      "pyasn1_modules==0.4.2\n",
      "pycairo==1.27.0\n",
      "pycocotools==2.0.8\n",
      "pycparser==2.22\n",
      "pydantic==2.11.1\n",
      "pydantic_core==2.33.0\n",
      "pydata-google-auth==1.9.1\n",
      "pydot==3.0.4\n",
      "pydotplus==2.0.2\n",
      "PyDrive==1.3.1\n",
      "PyDrive2==1.21.3\n",
      "pyerfa==2.0.1.5\n",
      "pygame==2.6.1\n",
      "pygit2==1.17.0\n",
      "Pygments==2.18.0\n",
      "PyGObject==3.42.0\n",
      "PyJWT==2.10.1\n",
      "pylibcudf-cu12 @ https://pypi.nvidia.com/pylibcudf-cu12/pylibcudf_cu12-25.2.1-cp311-cp311-manylinux_2_24_x86_64.manylinux_2_28_x86_64.whl\n",
      "pylibcugraph-cu12==25.2.0\n",
      "pylibraft-cu12==25.2.0\n",
      "pymc==5.21.1\n",
      "pymystem3==0.2.0\n",
      "pynndescent==0.5.13\n",
      "pynvjitlink-cu12==0.5.2\n",
      "pynvml==12.0.0\n",
      "pyogrio==0.10.0\n",
      "Pyomo==6.8.2\n",
      "PyOpenGL==3.1.9\n",
      "pyOpenSSL==24.2.1\n",
      "pyparsing==3.2.3\n",
      "pyperclip==1.9.0\n",
      "pyproj==3.7.1\n",
      "pyshp==2.3.1\n",
      "PySocks==1.7.1\n",
      "pyspark==3.5.5\n",
      "pytensor==2.28.3\n",
      "pytest==8.3.5\n",
      "python-apt==0.0.0\n",
      "python-box==7.3.2\n",
      "python-dateutil==2.8.2\n",
      "python-louvain==0.16\n",
      "python-slugify==8.0.4\n",
      "python-snappy==0.7.3\n",
      "python-utils==3.9.1\n",
      "pytz==2025.2\n",
      "pyviz_comms==3.0.4\n",
      "PyYAML==6.0.2\n",
      "pyzmq==24.0.1\n",
      "raft-dask-cu12==25.2.0\n",
      "rapids-dask-dependency==25.2.0\n",
      "ratelim==0.1.6\n",
      "referencing==0.36.2\n",
      "regex==2024.11.6\n",
      "requests==2.32.3\n",
      "requests-oauthlib==2.0.0\n",
      "requests-toolbelt==1.0.0\n",
      "requirements-parser==0.9.0\n",
      "rich==13.9.4\n",
      "rmm-cu12==25.2.0\n",
      "roman-numerals-py==3.1.0\n",
      "rpds-py==0.24.0\n",
      "rpy2==3.5.17\n",
      "rsa==4.9\n",
      "safetensors==0.5.3\n",
      "scikit-image==0.25.2\n",
      "scikit-learn==1.6.1\n",
      "scipy==1.14.1\n",
      "scooby==0.10.0\n",
      "scs==3.2.7.post2\n",
      "seaborn==0.13.2\n",
      "SecretStorage==3.3.1\n",
      "Send2Trash==1.8.3\n",
      "sentence-transformers==3.4.1\n",
      "sentencepiece==0.2.0\n",
      "sentry-sdk==2.25.1\n",
      "setproctitle==1.3.5\n",
      "shap==0.47.1\n",
      "shapely==2.0.7\n",
      "shellingham==1.5.4\n",
      "simple-parsing==0.1.7\n",
      "simplejson==3.20.1\n",
      "simsimd==6.2.1\n",
      "six==1.17.0\n",
      "sklearn-compat==0.1.3\n",
      "sklearn-pandas==2.2.0\n",
      "slicer==0.0.8\n",
      "smart-open==7.1.0\n",
      "smmap==5.0.2\n",
      "sniffio==1.3.1\n",
      "snowballstemmer==2.2.0\n",
      "sortedcontainers==2.4.0\n",
      "soundfile==0.13.1\n",
      "soupsieve==2.6\n",
      "soxr==0.5.0.post1\n",
      "spacy==3.8.5\n",
      "spacy-legacy==3.0.12\n",
      "spacy-loggers==1.0.5\n",
      "spanner-graph-notebook==1.1.6\n",
      "Sphinx==8.2.3\n",
      "sphinxcontrib-applehelp==2.0.0\n",
      "sphinxcontrib-devhelp==2.0.0\n",
      "sphinxcontrib-htmlhelp==2.1.0\n",
      "sphinxcontrib-jsmath==1.0.1\n",
      "sphinxcontrib-qthelp==2.0.0\n",
      "sphinxcontrib-serializinghtml==2.0.0\n",
      "SQLAlchemy==2.0.40\n",
      "sqlglot==25.20.2\n",
      "sqlparse==0.5.3\n",
      "srsly==2.5.1\n",
      "stack-data==0.6.3\n",
      "stanio==0.5.1\n",
      "statsmodels==0.14.4\n",
      "stringzilla==3.12.3\n",
      "sympy==1.13.1\n",
      "tables==3.10.2\n",
      "tabulate==0.9.0\n",
      "tbb==2022.1.0\n",
      "tblib==3.1.0\n",
      "tcmlib==1.3.0\n",
      "tenacity==9.1.2\n",
      "tensorboard==2.19.0\n",
      "tensorboard-data-server==0.7.2\n",
      "tensorflow==2.19.0\n",
      "tensorflow-datasets==4.9.8\n",
      "tensorflow-hub==0.16.1\n",
      "tensorflow-io-gcs-filesystem==0.37.1\n",
      "tensorflow-metadata==1.16.1\n",
      "tensorflow-probability==0.25.0\n",
      "tensorflow-text==2.18.1\n",
      "tensorflow_decision_forests==1.12.0\n",
      "tensorflowjs==4.22.0\n",
      "tensorstore==0.1.73\n",
      "termcolor==3.0.1\n",
      "terminado==0.18.1\n",
      "text-unidecode==1.3\n",
      "textblob==0.19.0\n",
      "tf-slim==1.1.0\n",
      "tf_keras==2.19.0\n",
      "thinc==8.3.4\n",
      "threadpoolctl==3.6.0\n",
      "tifffile==2025.3.30\n",
      "timm==1.0.15\n",
      "tinycss2==1.4.0\n",
      "tokenizers==0.21.1\n",
      "toml==0.10.2\n",
      "toolz==0.12.1\n",
      "torch @ https://download.pytorch.org/whl/cu124/torch-2.6.0%2Bcu124-cp311-cp311-linux_x86_64.whl\n",
      "torchaudio @ https://download.pytorch.org/whl/cu124/torchaudio-2.6.0%2Bcu124-cp311-cp311-linux_x86_64.whl\n",
      "torchsummary==1.5.1\n",
      "torchvision @ https://download.pytorch.org/whl/cu124/torchvision-0.21.0%2Bcu124-cp311-cp311-linux_x86_64.whl\n",
      "tornado==6.4.2\n",
      "tqdm==4.67.1\n",
      "traitlets==5.7.1\n",
      "traittypes==0.2.1\n",
      "transformers==4.50.3\n",
      "treelite==4.4.1\n",
      "treescope==0.1.9\n",
      "triton==3.2.0\n",
      "tweepy==4.15.0\n",
      "typeguard==4.4.2\n",
      "typer==0.15.2\n",
      "types-pytz==2025.2.0.20250326\n",
      "types-setuptools==78.1.0.20250329\n",
      "typing-inspection==0.4.0\n",
      "typing_extensions==4.13.0\n",
      "tzdata==2025.2\n",
      "tzlocal==5.3.1\n",
      "uc-micro-py==1.0.3\n",
      "ucx-py-cu12==0.42.0\n",
      "ucxx-cu12==0.42.0\n",
      "umap-learn==0.5.7\n",
      "umf==0.10.0\n",
      "uritemplate==4.1.1\n",
      "urllib3==2.3.0\n",
      "vega-datasets==0.9.0\n",
      "wadllib==1.3.6\n",
      "wandb==0.19.9\n",
      "wasabi==1.1.3\n",
      "wcwidth==0.2.13\n",
      "weasel==0.4.1\n",
      "webcolors==24.11.1\n",
      "webencodings==0.5.1\n",
      "websocket-client==1.8.0\n",
      "websockets==15.0.1\n",
      "Werkzeug==3.1.3\n",
      "widgetsnbextension==3.6.10\n",
      "wordcloud==1.9.4\n",
      "wrapt==1.17.2\n",
      "wurlitzer==3.1.1\n",
      "xarray==2025.1.2\n",
      "xarray-einstats==0.8.0\n",
      "xgboost==2.1.4\n",
      "xlrd==2.0.1\n",
      "xyzservices==2025.1.0\n",
      "yarg==0.1.9\n",
      "yarl==1.18.3\n",
      "ydf==0.11.0\n",
      "yellowbrick==1.5\n",
      "yfinance==0.2.55\n",
      "zict==3.0.0\n",
      "zipp==3.21.0\n",
      "zstandard==0.23.0\n"
     ]
    }
   ],
   "source": [
    "!pip freeze requirenments.txt"
   ]
  }
 ],
 "metadata": {
  "colab": {
   "provenance": []
  },
  "kernelspec": {
   "display_name": "Python 3 (ipykernel)",
   "language": "python",
   "name": "python3"
  },
  "language_info": {
   "codemirror_mode": {
    "name": "ipython",
    "version": 3
   },
   "file_extension": ".py",
   "mimetype": "text/x-python",
   "name": "python",
   "nbconvert_exporter": "python",
   "pygments_lexer": "ipython3",
   "version": "3.12.5"
  }
 },
 "nbformat": 4,
 "nbformat_minor": 4
}
