{
 "cells": [
  {
   "cell_type": "markdown",
   "metadata": {
    "id": "wxF1zcuh-yaa"
   },
   "source": [
    "# Scraping Data dari Google Play Store"
   ]
  },
  {
   "cell_type": "code",
   "execution_count": 1,
   "metadata": {
    "id": "DSz5_veu_KQJ"
   },
   "outputs": [],
   "source": [
    "import csv\n",
    "from google_play_scraper import reviews_all, Sort"
   ]
  },
  {
   "cell_type": "markdown",
   "metadata": {
    "id": "pkGyMgUXTLKV"
   },
   "source": [
    "Saya akan melakukan scraping pada game bernama **[Solo Leveling:Arise](https://play.google.com/store/apps/details?id=com.netmarble.sololv)** dengan total download mencapai 10 juta lebih."
   ]
  },
  {
   "cell_type": "code",
   "execution_count": 2,
   "metadata": {
    "id": "4cSQB18xA-Kj"
   },
   "outputs": [],
   "source": [
    "reviews = reviews_all(\n",
    "    'com.netmarble.sololv',\n",
    "    lang='id',\n",
    "    country='id',\n",
    "    sort=Sort.MOST_RELEVANT,\n",
    ")"
   ]
  },
  {
   "cell_type": "code",
   "execution_count": 3,
   "metadata": {
    "colab": {
     "base_uri": "https://localhost:8080/"
    },
    "id": "MYYmXNWJGyt7",
    "outputId": "1b6e71ff-710a-48ca-f13e-7395d80d36b8"
   },
   "outputs": [
    {
     "data": {
      "text/plain": [
       "27430"
      ]
     },
     "execution_count": 3,
     "metadata": {},
     "output_type": "execute_result"
    }
   ],
   "source": [
    "len(reviews)"
   ]
  },
  {
   "cell_type": "code",
   "execution_count": 4,
   "metadata": {
    "colab": {
     "base_uri": "https://localhost:8080/"
    },
    "id": "kDRdoVnYUyc_",
    "outputId": "988249b3-ec95-4df7-adb6-abc82d81ed9e"
   },
   "outputs": [
    {
     "data": {
      "text/plain": [
       "[{'reviewId': 'e5e1000d-c00e-45fc-923e-0dbe89da20b9',\n",
       "  'userName': 'Pengguna Google',\n",
       "  'userImage': 'https://play-lh.googleusercontent.com/EGemoI2NTXmTsBVtJqk8jxF9rh8ApRWfsIMQSt2uE4OcpQqbFu7f7NbTK05lx80nuSijCz7sc3a277R67g',\n",
       "  'content': 'Dari segi game play nya sudah ok lah, dari segi tingkat kesulitan nya lumayan berasa, tapi ada 1 aja kekurangannya, saya udah setel ke grafik rendah semua, tapi tetap terasa lag banget, fps nya drop. Tolong di optimalkan fps khusus grafik rendah ( Tecno spark 30 pro ) 🙏',\n",
       "  'score': 3,\n",
       "  'thumbsUpCount': 60,\n",
       "  'reviewCreatedVersion': '1.2.35',\n",
       "  'at': datetime.datetime(2025, 3, 13, 8, 54, 29),\n",
       "  'replyContent': None,\n",
       "  'repliedAt': None,\n",
       "  'appVersion': '1.2.35'},\n",
       " {'reviewId': 'c91e73ef-802e-4fc2-9b31-316ad2e7f91d',\n",
       "  'userName': 'Pengguna Google',\n",
       "  'userImage': 'https://play-lh.googleusercontent.com/EGemoI2NTXmTsBVtJqk8jxF9rh8ApRWfsIMQSt2uE4OcpQqbFu7f7NbTK05lx80nuSijCz7sc3a277R67g',\n",
       "  'content': 'loadingnya lama banget sampqi 9 jam padahal saya sudah bagus wifinya tapi saya tetap kasih bintang 4 karenq grafiknya bagus, banyak karakternya,dan skill setiap karakternya hampir sama kayak yang di anime nya saya tetap akui bagus gamenya karena kalau aku boeen langsung hilang gara gara main game ini',\n",
       "  'score': 4,\n",
       "  'thumbsUpCount': 1,\n",
       "  'reviewCreatedVersion': '1.2.35',\n",
       "  'at': datetime.datetime(2025, 3, 15, 11, 57, 10),\n",
       "  'replyContent': None,\n",
       "  'repliedAt': None,\n",
       "  'appVersion': '1.2.35'},\n",
       " {'reviewId': '5540a768-2794-40b6-853b-3e74c9ac7cf0',\n",
       "  'userName': 'Pengguna Google',\n",
       "  'userImage': 'https://play-lh.googleusercontent.com/EGemoI2NTXmTsBVtJqk8jxF9rh8ApRWfsIMQSt2uE4OcpQqbFu7f7NbTK05lx80nuSijCz7sc3a277R67g',\n",
       "  'content': 'Masih sering terjadi bug loading screen, yang dimana hal ini sangat menggangu sehingga harus login ulang terlebih dahulu, selanjutnya sering terjadi layar yang tiba tiba jadi hitam, tapi untuk game nya tetap berjalan seperti biasa walaupun hanya bisa mendengarkan suara dan backsound nya. Tambahan setelah update kemarin, bukan nya makin sedikit malah makin bertambah bug nya',\n",
       "  'score': 1,\n",
       "  'thumbsUpCount': 51,\n",
       "  'reviewCreatedVersion': '1.2.35',\n",
       "  'at': datetime.datetime(2025, 3, 15, 11, 51, 20),\n",
       "  'replyContent': None,\n",
       "  'repliedAt': None,\n",
       "  'appVersion': '1.2.35'}]"
      ]
     },
     "execution_count": 4,
     "metadata": {},
     "output_type": "execute_result"
    }
   ],
   "source": [
    "reviews[0:3]"
   ]
  },
  {
   "cell_type": "markdown",
   "metadata": {
    "id": "M1tZTBnsVFMZ"
   },
   "source": [
    "Setelah itu kita simpan data review ke dalam file csv."
   ]
  },
  {
   "cell_type": "code",
   "execution_count": 6,
   "metadata": {
    "id": "42MKh97yVXz5"
   },
   "outputs": [],
   "source": [
    "with open('dataset/solev-reviews.csv', mode='w', newline='', encoding='utf-8') as file:\n",
    "    writer = csv.writer(file)\n",
    "    writer.writerow(['score', 'review'])\n",
    "    for review in reviews:\n",
    "        writer.writerow([review['score'], review['content']])"
   ]
  }
 ],
 "metadata": {
  "colab": {
   "provenance": []
  },
  "kernelspec": {
   "display_name": "Python 3 (ipykernel)",
   "language": "python",
   "name": "python3"
  },
  "language_info": {
   "codemirror_mode": {
    "name": "ipython",
    "version": 3
   },
   "file_extension": ".py",
   "mimetype": "text/x-python",
   "name": "python",
   "nbconvert_exporter": "python",
   "pygments_lexer": "ipython3",
   "version": "3.12.5"
  }
 },
 "nbformat": 4,
 "nbformat_minor": 4
}
