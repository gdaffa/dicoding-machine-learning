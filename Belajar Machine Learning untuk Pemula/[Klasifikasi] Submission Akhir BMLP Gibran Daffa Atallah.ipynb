{
 "cells": [
  {
   "cell_type": "markdown",
   "metadata": {
    "id": "fKADPWcFKlj3",
    "jp-MarkdownHeadingCollapsed": true
   },
   "source": [
    "# **1. Import Library**"
   ]
  },
  {
   "cell_type": "code",
   "execution_count": 1,
   "metadata": {
    "id": "BlmvjLY9M4Yj"
   },
   "outputs": [],
   "source": [
    "import pandas as pd\n",
    "import seaborn as sns\n",
    "import matplotlib.pyplot as plt\n",
    "\n",
    "from sklearn.model_selection import train_test_split\n",
    "from sklearn.neighbors import KNeighborsClassifier\n",
    "from sklearn.tree import DecisionTreeClassifier\n",
    "from sklearn.ensemble import RandomForestClassifier\n",
    "from sklearn.svm import SVC\n",
    "from sklearn.naive_bayes import GaussianNB\n",
    "from sklearn.metrics import confusion_matrix, accuracy_score, precision_score, recall_score, f1_score\n",
    "\n",
    "pd.options.mode.copy_on_write = True"
   ]
  },
  {
   "cell_type": "markdown",
   "metadata": {
    "id": "f3YIEnAFKrKL",
    "jp-MarkdownHeadingCollapsed": true
   },
   "source": [
    "# **2. Memuat Dataset dari Hasil Clustering**"
   ]
  },
  {
   "cell_type": "code",
   "execution_count": 2,
   "metadata": {
    "id": "GHCGNTyrM5fS"
   },
   "outputs": [
    {
     "data": {
      "text/html": [
       "<div>\n",
       "<style scoped>\n",
       "    .dataframe tbody tr th:only-of-type {\n",
       "        vertical-align: middle;\n",
       "    }\n",
       "\n",
       "    .dataframe tbody tr th {\n",
       "        vertical-align: top;\n",
       "    }\n",
       "\n",
       "    .dataframe thead th {\n",
       "        text-align: right;\n",
       "    }\n",
       "</style>\n",
       "<table border=\"1\" class=\"dataframe\">\n",
       "  <thead>\n",
       "    <tr style=\"text-align: right;\">\n",
       "      <th></th>\n",
       "      <th>Year_Birth</th>\n",
       "      <th>Education</th>\n",
       "      <th>Income</th>\n",
       "      <th>NumWebVisitsMonth</th>\n",
       "      <th>Total_Day</th>\n",
       "      <th>Total_Cmp</th>\n",
       "      <th>Total_Purchase</th>\n",
       "      <th>Total_Child</th>\n",
       "      <th>Cluster</th>\n",
       "    </tr>\n",
       "  </thead>\n",
       "  <tbody>\n",
       "    <tr>\n",
       "      <th>0</th>\n",
       "      <td>1957</td>\n",
       "      <td>Graduation</td>\n",
       "      <td>58138.0</td>\n",
       "      <td>7</td>\n",
       "      <td>663</td>\n",
       "      <td>1.0</td>\n",
       "      <td>25.0</td>\n",
       "      <td>0.0</td>\n",
       "      <td>2</td>\n",
       "    </tr>\n",
       "    <tr>\n",
       "      <th>1</th>\n",
       "      <td>1954</td>\n",
       "      <td>Graduation</td>\n",
       "      <td>46344.0</td>\n",
       "      <td>5</td>\n",
       "      <td>113</td>\n",
       "      <td>0.0</td>\n",
       "      <td>6.0</td>\n",
       "      <td>2.0</td>\n",
       "      <td>2</td>\n",
       "    </tr>\n",
       "    <tr>\n",
       "      <th>2</th>\n",
       "      <td>1965</td>\n",
       "      <td>Graduation</td>\n",
       "      <td>71613.0</td>\n",
       "      <td>4</td>\n",
       "      <td>312</td>\n",
       "      <td>0.0</td>\n",
       "      <td>21.0</td>\n",
       "      <td>0.0</td>\n",
       "      <td>3</td>\n",
       "    </tr>\n",
       "    <tr>\n",
       "      <th>3</th>\n",
       "      <td>1984</td>\n",
       "      <td>Graduation</td>\n",
       "      <td>26646.0</td>\n",
       "      <td>6</td>\n",
       "      <td>139</td>\n",
       "      <td>0.0</td>\n",
       "      <td>8.0</td>\n",
       "      <td>1.0</td>\n",
       "      <td>0</td>\n",
       "    </tr>\n",
       "    <tr>\n",
       "      <th>4</th>\n",
       "      <td>1981</td>\n",
       "      <td>PhD</td>\n",
       "      <td>58293.0</td>\n",
       "      <td>5</td>\n",
       "      <td>161</td>\n",
       "      <td>0.0</td>\n",
       "      <td>19.0</td>\n",
       "      <td>1.0</td>\n",
       "      <td>2</td>\n",
       "    </tr>\n",
       "    <tr>\n",
       "      <th>...</th>\n",
       "      <td>...</td>\n",
       "      <td>...</td>\n",
       "      <td>...</td>\n",
       "      <td>...</td>\n",
       "      <td>...</td>\n",
       "      <td>...</td>\n",
       "      <td>...</td>\n",
       "      <td>...</td>\n",
       "      <td>...</td>\n",
       "    </tr>\n",
       "    <tr>\n",
       "      <th>2188</th>\n",
       "      <td>1967</td>\n",
       "      <td>Graduation</td>\n",
       "      <td>61223.0</td>\n",
       "      <td>5</td>\n",
       "      <td>381</td>\n",
       "      <td>0.0</td>\n",
       "      <td>18.0</td>\n",
       "      <td>1.0</td>\n",
       "      <td>3</td>\n",
       "    </tr>\n",
       "    <tr>\n",
       "      <th>2189</th>\n",
       "      <td>1946</td>\n",
       "      <td>PhD</td>\n",
       "      <td>64014.0</td>\n",
       "      <td>7</td>\n",
       "      <td>19</td>\n",
       "      <td>1.0</td>\n",
       "      <td>22.0</td>\n",
       "      <td>3.0</td>\n",
       "      <td>3</td>\n",
       "    </tr>\n",
       "    <tr>\n",
       "      <th>2190</th>\n",
       "      <td>1981</td>\n",
       "      <td>Graduation</td>\n",
       "      <td>56981.0</td>\n",
       "      <td>6</td>\n",
       "      <td>155</td>\n",
       "      <td>1.0</td>\n",
       "      <td>19.0</td>\n",
       "      <td>0.0</td>\n",
       "      <td>2</td>\n",
       "    </tr>\n",
       "    <tr>\n",
       "      <th>2191</th>\n",
       "      <td>1956</td>\n",
       "      <td>Master</td>\n",
       "      <td>69245.0</td>\n",
       "      <td>3</td>\n",
       "      <td>156</td>\n",
       "      <td>0.0</td>\n",
       "      <td>23.0</td>\n",
       "      <td>1.0</td>\n",
       "      <td>3</td>\n",
       "    </tr>\n",
       "    <tr>\n",
       "      <th>2192</th>\n",
       "      <td>1954</td>\n",
       "      <td>PhD</td>\n",
       "      <td>52869.0</td>\n",
       "      <td>7</td>\n",
       "      <td>622</td>\n",
       "      <td>1.0</td>\n",
       "      <td>11.0</td>\n",
       "      <td>2.0</td>\n",
       "      <td>2</td>\n",
       "    </tr>\n",
       "  </tbody>\n",
       "</table>\n",
       "<p>2193 rows × 9 columns</p>\n",
       "</div>"
      ],
      "text/plain": [
       "      Year_Birth   Education   Income  NumWebVisitsMonth  Total_Day  \\\n",
       "0           1957  Graduation  58138.0                  7        663   \n",
       "1           1954  Graduation  46344.0                  5        113   \n",
       "2           1965  Graduation  71613.0                  4        312   \n",
       "3           1984  Graduation  26646.0                  6        139   \n",
       "4           1981         PhD  58293.0                  5        161   \n",
       "...          ...         ...      ...                ...        ...   \n",
       "2188        1967  Graduation  61223.0                  5        381   \n",
       "2189        1946         PhD  64014.0                  7         19   \n",
       "2190        1981  Graduation  56981.0                  6        155   \n",
       "2191        1956      Master  69245.0                  3        156   \n",
       "2192        1954         PhD  52869.0                  7        622   \n",
       "\n",
       "      Total_Cmp  Total_Purchase  Total_Child  Cluster  \n",
       "0           1.0            25.0          0.0        2  \n",
       "1           0.0             6.0          2.0        2  \n",
       "2           0.0            21.0          0.0        3  \n",
       "3           0.0             8.0          1.0        0  \n",
       "4           0.0            19.0          1.0        2  \n",
       "...         ...             ...          ...      ...  \n",
       "2188        0.0            18.0          1.0        3  \n",
       "2189        1.0            22.0          3.0        3  \n",
       "2190        1.0            19.0          0.0        2  \n",
       "2191        0.0            23.0          1.0        3  \n",
       "2192        1.0            11.0          2.0        2  \n",
       "\n",
       "[2193 rows x 9 columns]"
      ]
     },
     "execution_count": 2,
     "metadata": {},
     "output_type": "execute_result"
    }
   ],
   "source": [
    "df = pd.read_csv('dataset/marketing_campaign_labeled.csv', index_col=0)\n",
    "df"
   ]
  },
  {
   "cell_type": "markdown",
   "metadata": {
    "id": "KkPem5eWL2UP",
    "jp-MarkdownHeadingCollapsed": true
   },
   "source": [
    "# **3. Data Splitting**"
   ]
  },
  {
   "cell_type": "code",
   "execution_count": 3,
   "metadata": {},
   "outputs": [],
   "source": [
    "df_encoded           = df.copy()\n",
    "df_encoded.Education = df_encoded.Education.map({ 'Basic' : 0, '2n Cycle' : 1, 'Graduation' : 2, 'Master' : 3, 'PhD' : 4 })"
   ]
  },
  {
   "cell_type": "code",
   "execution_count": 4,
   "metadata": {
    "id": "OubAW-7ONKVj"
   },
   "outputs": [
    {
     "name": "stdout",
     "output_type": "stream",
     "text": [
      "Training set shape : X_train=(1754, 8), y_train=(1754,)\n",
      "Test set shape     : X_test=(439, 8), y_test=(439,)\n"
     ]
    }
   ],
   "source": [
    "X = df_encoded.drop(columns=['Cluster'])\n",
    "y = df_encoded['Cluster']\n",
    "\n",
    "X_train, X_test, y_train, y_test = train_test_split(X, y, test_size=0.2, random_state=0)\n",
    "\n",
    "print(f\"Training set shape : X_train={X_train.shape}, y_train={y_train.shape}\")\n",
    "print(f\"Test set shape     : X_test={X_test.shape}, y_test={y_test.shape}\")"
   ]
  },
  {
   "cell_type": "markdown",
   "metadata": {
    "id": "IVPbB03CMhTT",
    "jp-MarkdownHeadingCollapsed": true
   },
   "source": [
    "# **4. Membangun Model Klasifikasi**\n"
   ]
  },
  {
   "cell_type": "markdown",
   "metadata": {
    "id": "Ned1pL9zMmBK",
    "jp-MarkdownHeadingCollapsed": true
   },
   "source": [
    "## **a. Membangun Model Klasifikasi**"
   ]
  },
  {
   "cell_type": "markdown",
   "metadata": {
    "id": "seYoHNY3XU1y"
   },
   "source": [
    "Kita akan melakukan pelatihan dengan beberapa dataset, antara lain K-Nearest Neighbor, Decision Tree, Random Forest, Support Vector Machine, dan Gaussian Mixture Model."
   ]
  },
  {
   "cell_type": "markdown",
   "metadata": {
    "id": "ergzChZFEL-O",
    "jp-MarkdownHeadingCollapsed": true
   },
   "source": [
    "## **b. Evaluasi Model Klasifikasi**"
   ]
  },
  {
   "cell_type": "code",
   "execution_count": 5,
   "metadata": {},
   "outputs": [],
   "source": [
    "score_all = {}"
   ]
  },
  {
   "cell_type": "code",
   "execution_count": 6,
   "metadata": {},
   "outputs": [],
   "source": [
    "def predict(model):\n",
    "    model        = model.fit(X_train, y_train)\n",
    "    y_prediction = model.predict(X_test)\n",
    "    cmatrix      = confusion_matrix(y_test, y_prediction)\n",
    "    score        = [\n",
    "        accuracy_score(y_test, y_prediction),\n",
    "        precision_score(y_test, y_prediction, average='macro'),\n",
    "        recall_score(y_test, y_prediction, average='macro'),\n",
    "        f1_score(y_test, y_prediction, average='macro')\n",
    "    ]\n",
    "\n",
    "    print(f\"Accuracy  : {score[0]:.4f}\")\n",
    "    print(f\"Precision : {score[1]:.4f}\")\n",
    "    print(f\"Recall    : {score[2]:.4f}\")\n",
    "    print(f\"F1-Score  : {score[3]:.4f}\")\n",
    "\n",
    "    sns.heatmap(cmatrix, annot=True, fmt='d', cmap='Blues', cbar=False)\n",
    "    plt.xlabel('Predicted')\n",
    "    plt.ylabel('Actual')\n",
    "    plt.show()\n",
    "\n",
    "    return score"
   ]
  },
  {
   "cell_type": "markdown",
   "metadata": {
    "jp-MarkdownHeadingCollapsed": true
   },
   "source": [
    "### K-Nearest Neighbor (KNN)"
   ]
  },
  {
   "cell_type": "code",
   "execution_count": 7,
   "metadata": {
    "id": "tMq4QAssNLip"
   },
   "outputs": [
    {
     "name": "stdout",
     "output_type": "stream",
     "text": [
      "Accuracy  : 1.0000\n",
      "Precision : 1.0000\n",
      "Recall    : 1.0000\n",
      "F1-Score  : 1.0000\n"
     ]
    },
    {
     "data": {
      "image/png": "[encoded data removed]",
      "text/plain": [
       "<Figure size 640x480 with 1 Axes>"
      ]
     },
     "metadata": {},
     "output_type": "display_data"
    }
   ],
   "source": [
    "score_all['K-Nearest Neighbor'] = predict(KNeighborsClassifier())"
   ]
  },
  {
   "cell_type": "markdown",
   "metadata": {
    "jp-MarkdownHeadingCollapsed": true
   },
   "source": [
    "### Decision Tree"
   ]
  },
  {
   "cell_type": "code",
   "execution_count": 8,
   "metadata": {
    "id": "tMq4QAssNLip"
   },
   "outputs": [
    {
     "name": "stdout",
     "output_type": "stream",
     "text": [
      "Accuracy  : 1.0000\n",
      "Precision : 1.0000\n",
      "Recall    : 1.0000\n",
      "F1-Score  : 1.0000\n"
     ]
    },
    {
     "data": {
      "image/png": "[encoded data removed]",
      "text/plain": [
       "<Figure size 640x480 with 1 Axes>"
      ]
     },
     "metadata": {},
     "output_type": "display_data"
    }
   ],
   "source": [
    "score_all['Decision Tree'] = predict(DecisionTreeClassifier())"
   ]
  },
  {
   "cell_type": "markdown",
   "metadata": {
    "jp-MarkdownHeadingCollapsed": true
   },
   "source": [
    "### Random Forest"
   ]
  },
  {
   "cell_type": "code",
   "execution_count": 9,
   "metadata": {
    "id": "tMq4QAssNLip"
   },
   "outputs": [
    {
     "name": "stdout",
     "output_type": "stream",
     "text": [
      "Accuracy  : 1.0000\n",
      "Precision : 1.0000\n",
      "Recall    : 1.0000\n",
      "F1-Score  : 1.0000\n"
     ]
    },
    {
     "data": {
      "image/png": "[encoded data removed]",
      "text/plain": [
       "<Figure size 640x480 with 1 Axes>"
      ]
     },
     "metadata": {},
     "output_type": "display_data"
    }
   ],
   "source": [
    "score_all['Random Forest'] = predict(RandomForestClassifier())"
   ]
  },
  {
   "cell_type": "markdown",
   "metadata": {
    "jp-MarkdownHeadingCollapsed": true
   },
   "source": [
    "### Support Vector Machine (SVM)"
   ]
  },
  {
   "cell_type": "code",
   "execution_count": 10,
   "metadata": {
    "id": "tMq4QAssNLip"
   },
   "outputs": [
    {
     "name": "stdout",
     "output_type": "stream",
     "text": [
      "Accuracy  : 0.9954\n",
      "Precision : 0.9965\n",
      "Recall    : 0.9938\n",
      "F1-Score  : 0.9951\n"
     ]
    },
    {
     "data": {
      "image/png": "[encoded data removed]",
      "text/plain": [
       "<Figure size 640x480 with 1 Axes>"
      ]
     },
     "metadata": {},
     "output_type": "display_data"
    }
   ],
   "source": [
    "score_all['Support Vector Machine'] = predict(SVC())"
   ]
  },
  {
   "cell_type": "markdown",
   "metadata": {
    "jp-MarkdownHeadingCollapsed": true
   },
   "source": [
    "### Naive Bayes (NB)"
   ]
  },
  {
   "cell_type": "code",
   "execution_count": 11,
   "metadata": {
    "id": "tMq4QAssNLip"
   },
   "outputs": [
    {
     "name": "stdout",
     "output_type": "stream",
     "text": [
      "Accuracy  : 0.9453\n",
      "Precision : 0.9463\n",
      "Recall    : 0.9474\n",
      "F1-Score  : 0.9467\n"
     ]
    },
    {
     "data": {
      "image/png": "[encoded data removed]",
      "text/plain": [
       "<Figure size 640x480 with 1 Axes>"
      ]
     },
     "metadata": {},
     "output_type": "display_data"
    }
   ],
   "source": [
    "score_all['Naive Bayes'] = predict(GaussianNB())"
   ]
  },
  {
   "cell_type": "markdown",
   "metadata": {
    "id": "ph9yIYDXEPuB",
    "jp-MarkdownHeadingCollapsed": true
   },
   "source": [
    "## **c. Tuning Model Klasifikasi (Optional)**"
   ]
  },
  {
   "cell_type": "markdown",
   "metadata": {
    "id": "winbFzb8NL95"
   },
   "source": [
    "Karena sudah hampir mendekati 100% semua, maka tidak perlu (capek njir)."
   ]
  },
  {
   "cell_type": "markdown",
   "metadata": {
    "id": "hE7pqlEPEYzI",
    "jp-MarkdownHeadingCollapsed": true
   },
   "source": [
    "## **d. Evaluasi Model Klasifikasi setelah Tuning (Optional)**"
   ]
  },
  {
   "cell_type": "markdown",
   "metadata": {
    "id": "HTXZRvEeNMb1"
   },
   "source": [
    "Tidak ada tuning berarti tidak ada evaluasi lagi."
   ]
  },
  {
   "cell_type": "markdown",
   "metadata": {
    "id": "ZRsOdm4uEgAW",
    "jp-MarkdownHeadingCollapsed": true
   },
   "source": [
    "## **e. Analisis Hasil Evaluasi Model Klasifikasi**"
   ]
  },
  {
   "cell_type": "code",
   "execution_count": 12,
   "metadata": {},
   "outputs": [],
   "source": [
    "result = pd.DataFrame(data=score_all, index=['Accuracy', 'Precission', 'Recall', 'F1-Score'])"
   ]
  },
  {
   "cell_type": "code",
   "execution_count": 13,
   "metadata": {},
   "outputs": [
    {
     "data": {
      "text/html": [
       "<div>\n",
       "<style scoped>\n",
       "    .dataframe tbody tr th:only-of-type {\n",
       "        vertical-align: middle;\n",
       "    }\n",
       "\n",
       "    .dataframe tbody tr th {\n",
       "        vertical-align: top;\n",
       "    }\n",
       "\n",
       "    .dataframe thead th {\n",
       "        text-align: right;\n",
       "    }\n",
       "</style>\n",
       "<table border=\"1\" class=\"dataframe\">\n",
       "  <thead>\n",
       "    <tr style=\"text-align: right;\">\n",
       "      <th></th>\n",
       "      <th>K-Nearest Neighbor</th>\n",
       "      <th>Decision Tree</th>\n",
       "      <th>Random Forest</th>\n",
       "      <th>Support Vector Machine</th>\n",
       "      <th>Naive Bayes</th>\n",
       "    </tr>\n",
       "  </thead>\n",
       "  <tbody>\n",
       "    <tr>\n",
       "      <th>Accuracy</th>\n",
       "      <td>1.0</td>\n",
       "      <td>1.0</td>\n",
       "      <td>1.0</td>\n",
       "      <td>0.995444</td>\n",
       "      <td>0.945330</td>\n",
       "    </tr>\n",
       "    <tr>\n",
       "      <th>Precission</th>\n",
       "      <td>1.0</td>\n",
       "      <td>1.0</td>\n",
       "      <td>1.0</td>\n",
       "      <td>0.996522</td>\n",
       "      <td>0.946300</td>\n",
       "    </tr>\n",
       "    <tr>\n",
       "      <th>Recall</th>\n",
       "      <td>1.0</td>\n",
       "      <td>1.0</td>\n",
       "      <td>1.0</td>\n",
       "      <td>0.993846</td>\n",
       "      <td>0.947411</td>\n",
       "    </tr>\n",
       "    <tr>\n",
       "      <th>F1-Score</th>\n",
       "      <td>1.0</td>\n",
       "      <td>1.0</td>\n",
       "      <td>1.0</td>\n",
       "      <td>0.995121</td>\n",
       "      <td>0.946655</td>\n",
       "    </tr>\n",
       "  </tbody>\n",
       "</table>\n",
       "</div>"
      ],
      "text/plain": [
       "            K-Nearest Neighbor  Decision Tree  Random Forest  \\\n",
       "Accuracy                   1.0            1.0            1.0   \n",
       "Precission                 1.0            1.0            1.0   \n",
       "Recall                     1.0            1.0            1.0   \n",
       "F1-Score                   1.0            1.0            1.0   \n",
       "\n",
       "            Support Vector Machine  Naive Bayes  \n",
       "Accuracy                  0.995444     0.945330  \n",
       "Precission                0.996522     0.946300  \n",
       "Recall                    0.993846     0.947411  \n",
       "F1-Score                  0.995121     0.946655  "
      ]
     },
     "execution_count": 13,
     "metadata": {},
     "output_type": "execute_result"
    }
   ],
   "source": [
    "result"
   ]
  },
  {
   "cell_type": "markdown",
   "metadata": {
    "id": "Hm3BhSi6N4_l"
   },
   "source": [
    "1. **K-Nearest Neighbors (KNN)**\n",
    "   - **Accuracy**: 100%\n",
    "   - **Precision**: 100%\n",
    "   - **Recall**: 100%\n",
    "   - **F1-Score**: 100%\n",
    "\n",
    "   **Analisis**: KNN memiliki skor 100% untuk semua aspek ini mungkin disebabkan karena model sederhana dan bisa menangkap pola yang sederhana juga, apalagi kita membuat label dengan model yang mencari tetangga terdekatnya yaitu KMeans yang cara kerjanya mirip dengan KNN.\n",
    "\n",
    "2. **Decision Tree**\n",
    "   - **Accuracy**: 100%\n",
    "   - **Precision**: 100%\n",
    "   - **Recall**: 100%\n",
    "   - **F1-Score**: 100%\n",
    "\n",
    "   **Analisis**: Decision Tree juga memiliki skor 100% untuk semua aspek ini mungkin juga disebabkan karena model sederhana.\n",
    "\n",
    "3. **Random Forest**\n",
    "   - **Accuracy**: 100%%\n",
    "   - **Precision**: 100%\n",
    "   - **Recall**: 100%\n",
    "   - **F1-Score**: 100%\n",
    "\n",
    "   **Analisis**: Random Forest juga memiliki skor 100% disebabkan oleh model Dicision Tree, karena begitulah cara model ini bekerja.\n",
    "\n",
    "4. **Support Vector Machine (SVM)**\n",
    "   - **Accuracy**: 99.54%\n",
    "   - **Precision**: 99.65%\n",
    "   - **Recall**: 99.38%\n",
    "   - **F1-Score**: 99.51%\n",
    "\n",
    "   **Analisis**: SVM memiliki skor yang menurun sebesar 1% daripada model sebelumnya. Penurunan ini mungkin disebabkan oleh algoritma dari model SVM yang lebih kompleks daripada model sebelumnya, yang mana terlalu kompleks untuk data ini.\n",
    "\n",
    "5. **Naive Bayes**\n",
    "   - **Accuracy**: 94.53%\n",
    "   - **Precision**: 94.63%\n",
    "   - **Recall**: 94.74%\n",
    "   - **F1-Score**: 94.66%\n",
    "\n",
    "   **Analisis**: Naive Bayes memiliki skor yang paling rendah daripada model lainnya, yang mana hingga 4%. Penurunan ini mungkin juga disebabkan oleh algoritma dari model Naive Bayes yang terlalu kompleks untuk data ini.\n",
    "\n",
    "### **Kesimpulan:**\n",
    "\n",
    "Gunakan model KNN, Decision Tree, atau Random Forest untuk melakukan klasifikasi pada data ini. Ini disebabkan algoritma dari model tersebut lebih sederhana daripada model seperti SVM dan Naive Bayes, yang mana model tersebut terlalu kompleks untuk data sederhana yang membuatnya memiliki skor dibawah 100%."
   ]
  },
  {
   "cell_type": "markdown",
   "metadata": {},
   "source": [
    "> Alhamdulillah njir gw ngerjain 24 jam+ karena g nemu silhouette skor diatas 0.54 buat dapet skor penilaian 😭, dan ternyata skor untuk klasifikasinya diatas 90% semua g espek aku 😭🥳."
   ]
  }
 ],
 "metadata": {
  "colab": {
   "provenance": []
  },
  "kernelspec": {
   "display_name": "Python 3 (ipykernel)",
   "language": "python",
   "name": "python3"
  },
  "language_info": {
   "codemirror_mode": {
    "name": "ipython",
    "version": 3
   },
   "file_extension": ".py",
   "mimetype": "text/x-python",
   "name": "python",
   "nbconvert_exporter": "python",
   "pygments_lexer": "ipython3",
   "version": "3.12.5"
  }
 },
 "nbformat": 4,
 "nbformat_minor": 4
}
